{
 "cells": [
  {
   "cell_type": "markdown",
   "metadata": {
    "id": "WFgg98R3KM2j"
   },
   "source": [
    "# __INFO 2950 Final Project - Data Cleaning__"
   ]
  },
  {
   "cell_type": "markdown",
   "metadata": {
    "id": "56RSCZXvKM2l"
   },
   "source": [
    "# __DATA CLEANING__:\n",
    "\n"
   ]
  },
  {
   "cell_type": "markdown",
   "metadata": {},
   "source": [
    "### Introduction to the Raw Dataset\n",
    "\n",
    "We chose a data table showing clinical data for 2,509 breast cancer patients, including Patient ID, Number of Postive Lymphnodes (numerical), Nottingham Prognostic Index (numerical), Cellularity/Tumor Content (categorical), Chemotherapy (binary), Cohort (categorical), ER Status measured by IHC (binary), HER2 Status measured by SNP6 (categorical), Hormone Therapy (binary), Inferred Menopausal State (binary), Sex (binary), Integrative Cluster (categorical/numerical), Age at Diagnosis (numerical), Overall Survival in Months since Initial Diagonosis (numerical), Overall Patient Survival Status (binary), Pam50 + Claudin-Low Subtype (categorical), 3-Gene Classifier Subtype (categorical), Patient's Vital Status (categorical), Primary Tumor Laterality (binary), Radio Therapy (binary), Tumor Other Histologic Subtype (categorical), Type of Breast Surgery (categorical), Relapse Free Status (binary), and Relapse Free Status in months (numerical).\n",
    "\n",
    "Source for Patient Clinical Data: https://www.cbioportal.org/study/summary?id=brca_metabric"
   ]
  },
  {
   "cell_type": "code",
   "execution_count": 1,
   "metadata": {
    "id": "VWxBNYqBKM2l"
   },
   "outputs": [],
   "source": [
    "import numpy as np\n",
    "import pandas as pd\n",
    "import matplotlib.pyplot as plt\n",
    "import seaborn as sns\n",
    "from sklearn.linear_model import LinearRegression, LogisticRegression\n",
    "from sklearn.preprocessing import LabelEncoder\n",
    "from sklearn.preprocessing import MinMaxScaler"
   ]
  },
  {
   "cell_type": "markdown",
   "metadata": {
    "id": "-laCWDeFKM2m"
   },
   "source": [
    "### Data Cleaning\n",
    "\n",
    "For this project, our group aims to use the dataset about breast cancer patient clinal and biological data to predict the vitality of patient.\n",
    "\n",
    "We load in `breast_cancer_data.csv` with `pandas`. We name the dataframe as `breast_cancer_df`. We need to separate the columns by using the delimiter = \";\"\n"
   ]
  },
  {
   "cell_type": "code",
   "execution_count": 2,
   "metadata": {
    "id": "8QoHHub4KM2n",
    "outputId": "6ea48edb-890c-492e-8b67-8b54016a7645"
   },
   "outputs": [
    {
     "name": "stdout",
     "output_type": "stream",
     "text": [
      "(1985, 22)\n"
     ]
    },
    {
     "data": {
      "text/html": [
       "<div>\n",
       "<style scoped>\n",
       "    .dataframe tbody tr th:only-of-type {\n",
       "        vertical-align: middle;\n",
       "    }\n",
       "\n",
       "    .dataframe tbody tr th {\n",
       "        vertical-align: top;\n",
       "    }\n",
       "\n",
       "    .dataframe thead th {\n",
       "        text-align: right;\n",
       "    }\n",
       "</style>\n",
       "<table border=\"1\" class=\"dataframe\">\n",
       "  <thead>\n",
       "    <tr style=\"text-align: right;\">\n",
       "      <th></th>\n",
       "      <th>PATIENT_ID</th>\n",
       "      <th>LYMPH_NODES_EXAMINED_POSITIVE</th>\n",
       "      <th>NPI</th>\n",
       "      <th>CELLULARITY</th>\n",
       "      <th>CHEMOTHERAPY</th>\n",
       "      <th>COHORT</th>\n",
       "      <th>ER_IHC</th>\n",
       "      <th>HER2_SNP6</th>\n",
       "      <th>HORMONE_THERAPY</th>\n",
       "      <th>INFERRED_MENOPAUSAL_STATE</th>\n",
       "      <th>...</th>\n",
       "      <th>OS_MONTHS</th>\n",
       "      <th>OS_STATUS</th>\n",
       "      <th>CLAUDIN_SUBTYPE</th>\n",
       "      <th>VITAL_STATUS</th>\n",
       "      <th>LATERALITY</th>\n",
       "      <th>RADIO_THERAPY</th>\n",
       "      <th>HISTOLOGICAL_SUBTYPE</th>\n",
       "      <th>BREAST_SURGERY</th>\n",
       "      <th>RFS_STATUS</th>\n",
       "      <th>RFS_MONTHS</th>\n",
       "    </tr>\n",
       "  </thead>\n",
       "  <tbody>\n",
       "    <tr>\n",
       "      <th>0</th>\n",
       "      <td>1</td>\n",
       "      <td>10.0</td>\n",
       "      <td>6.044</td>\n",
       "      <td>NaN</td>\n",
       "      <td>NO</td>\n",
       "      <td>1</td>\n",
       "      <td>Positve</td>\n",
       "      <td>NEUTRAL</td>\n",
       "      <td>YES</td>\n",
       "      <td>Post</td>\n",
       "      <td>...</td>\n",
       "      <td>140.500000</td>\n",
       "      <td>0:LIVING</td>\n",
       "      <td>claudin-low</td>\n",
       "      <td>Living</td>\n",
       "      <td>Right</td>\n",
       "      <td>YES</td>\n",
       "      <td>Ductal/NST</td>\n",
       "      <td>MASTECTOMY</td>\n",
       "      <td>0:Not Recurred</td>\n",
       "      <td>138.65</td>\n",
       "    </tr>\n",
       "    <tr>\n",
       "      <th>1</th>\n",
       "      <td>2</td>\n",
       "      <td>0.0</td>\n",
       "      <td>4.020</td>\n",
       "      <td>High</td>\n",
       "      <td>NO</td>\n",
       "      <td>1</td>\n",
       "      <td>Positve</td>\n",
       "      <td>NEUTRAL</td>\n",
       "      <td>YES</td>\n",
       "      <td>Pre</td>\n",
       "      <td>...</td>\n",
       "      <td>84.633333</td>\n",
       "      <td>0:LIVING</td>\n",
       "      <td>LumA</td>\n",
       "      <td>Living</td>\n",
       "      <td>Right</td>\n",
       "      <td>YES</td>\n",
       "      <td>Ductal/NST</td>\n",
       "      <td>BREAST CONSERVING</td>\n",
       "      <td>0:Not Recurred</td>\n",
       "      <td>83.52</td>\n",
       "    </tr>\n",
       "    <tr>\n",
       "      <th>2</th>\n",
       "      <td>3</td>\n",
       "      <td>1.0</td>\n",
       "      <td>4.030</td>\n",
       "      <td>High</td>\n",
       "      <td>YES</td>\n",
       "      <td>1</td>\n",
       "      <td>Positve</td>\n",
       "      <td>NEUTRAL</td>\n",
       "      <td>YES</td>\n",
       "      <td>Pre</td>\n",
       "      <td>...</td>\n",
       "      <td>163.700000</td>\n",
       "      <td>1:DECEASED</td>\n",
       "      <td>LumB</td>\n",
       "      <td>Died of Disease</td>\n",
       "      <td>Right</td>\n",
       "      <td>NO</td>\n",
       "      <td>Ductal/NST</td>\n",
       "      <td>MASTECTOMY</td>\n",
       "      <td>1:Recurred</td>\n",
       "      <td>151.28</td>\n",
       "    </tr>\n",
       "    <tr>\n",
       "      <th>3</th>\n",
       "      <td>4</td>\n",
       "      <td>3.0</td>\n",
       "      <td>4.050</td>\n",
       "      <td>Moderate</td>\n",
       "      <td>YES</td>\n",
       "      <td>1</td>\n",
       "      <td>Positve</td>\n",
       "      <td>NEUTRAL</td>\n",
       "      <td>YES</td>\n",
       "      <td>Pre</td>\n",
       "      <td>...</td>\n",
       "      <td>164.933333</td>\n",
       "      <td>0:LIVING</td>\n",
       "      <td>LumB</td>\n",
       "      <td>Living</td>\n",
       "      <td>Right</td>\n",
       "      <td>YES</td>\n",
       "      <td>Mixed</td>\n",
       "      <td>MASTECTOMY</td>\n",
       "      <td>0:Not Recurred</td>\n",
       "      <td>162.76</td>\n",
       "    </tr>\n",
       "    <tr>\n",
       "      <th>4</th>\n",
       "      <td>5</td>\n",
       "      <td>8.0</td>\n",
       "      <td>6.080</td>\n",
       "      <td>High</td>\n",
       "      <td>YES</td>\n",
       "      <td>1</td>\n",
       "      <td>Positve</td>\n",
       "      <td>NEUTRAL</td>\n",
       "      <td>YES</td>\n",
       "      <td>Post</td>\n",
       "      <td>...</td>\n",
       "      <td>41.366667</td>\n",
       "      <td>1:DECEASED</td>\n",
       "      <td>LumB</td>\n",
       "      <td>Died of Disease</td>\n",
       "      <td>Right</td>\n",
       "      <td>YES</td>\n",
       "      <td>Mixed</td>\n",
       "      <td>MASTECTOMY</td>\n",
       "      <td>1:Recurred</td>\n",
       "      <td>18.55</td>\n",
       "    </tr>\n",
       "    <tr>\n",
       "      <th>5</th>\n",
       "      <td>6</td>\n",
       "      <td>0.0</td>\n",
       "      <td>4.062</td>\n",
       "      <td>Moderate</td>\n",
       "      <td>NO</td>\n",
       "      <td>1</td>\n",
       "      <td>Positve</td>\n",
       "      <td>NEUTRAL</td>\n",
       "      <td>YES</td>\n",
       "      <td>Post</td>\n",
       "      <td>...</td>\n",
       "      <td>7.800000</td>\n",
       "      <td>1:DECEASED</td>\n",
       "      <td>LumB</td>\n",
       "      <td>Died of Disease</td>\n",
       "      <td>Left</td>\n",
       "      <td>YES</td>\n",
       "      <td>Ductal/NST</td>\n",
       "      <td>MASTECTOMY</td>\n",
       "      <td>1:Recurred</td>\n",
       "      <td>2.89</td>\n",
       "    </tr>\n",
       "    <tr>\n",
       "      <th>6</th>\n",
       "      <td>7</td>\n",
       "      <td>1.0</td>\n",
       "      <td>4.020</td>\n",
       "      <td>Moderate</td>\n",
       "      <td>YES</td>\n",
       "      <td>1</td>\n",
       "      <td>Positve</td>\n",
       "      <td>LOSS</td>\n",
       "      <td>YES</td>\n",
       "      <td>Post</td>\n",
       "      <td>...</td>\n",
       "      <td>164.333333</td>\n",
       "      <td>0:LIVING</td>\n",
       "      <td>LumB</td>\n",
       "      <td>Living</td>\n",
       "      <td>Right</td>\n",
       "      <td>YES</td>\n",
       "      <td>Ductal/NST</td>\n",
       "      <td>BREAST CONSERVING</td>\n",
       "      <td>0:Not Recurred</td>\n",
       "      <td>162.17</td>\n",
       "    </tr>\n",
       "    <tr>\n",
       "      <th>7</th>\n",
       "      <td>8</td>\n",
       "      <td>NaN</td>\n",
       "      <td>6.130</td>\n",
       "      <td>High</td>\n",
       "      <td>YES</td>\n",
       "      <td>1</td>\n",
       "      <td>Negative</td>\n",
       "      <td>NEUTRAL</td>\n",
       "      <td>NO</td>\n",
       "      <td>Post</td>\n",
       "      <td>...</td>\n",
       "      <td>22.400000</td>\n",
       "      <td>1:DECEASED</td>\n",
       "      <td>Normal</td>\n",
       "      <td>Died of Disease</td>\n",
       "      <td>Left</td>\n",
       "      <td>YES</td>\n",
       "      <td>Lobular</td>\n",
       "      <td>MASTECTOMY</td>\n",
       "      <td>1:Recurred</td>\n",
       "      <td>11.74</td>\n",
       "    </tr>\n",
       "    <tr>\n",
       "      <th>8</th>\n",
       "      <td>9</td>\n",
       "      <td>1.0</td>\n",
       "      <td>4.058</td>\n",
       "      <td>Moderate</td>\n",
       "      <td>NO</td>\n",
       "      <td>1</td>\n",
       "      <td>Positve</td>\n",
       "      <td>NEUTRAL</td>\n",
       "      <td>YES</td>\n",
       "      <td>Post</td>\n",
       "      <td>...</td>\n",
       "      <td>99.533333</td>\n",
       "      <td>1:DECEASED</td>\n",
       "      <td>claudin-low</td>\n",
       "      <td>Died of Other Causes</td>\n",
       "      <td>Left</td>\n",
       "      <td>YES</td>\n",
       "      <td>Mixed</td>\n",
       "      <td>BREAST CONSERVING</td>\n",
       "      <td>0:Not Recurred</td>\n",
       "      <td>98.22</td>\n",
       "    </tr>\n",
       "    <tr>\n",
       "      <th>9</th>\n",
       "      <td>10</td>\n",
       "      <td>11.0</td>\n",
       "      <td>6.680</td>\n",
       "      <td>NaN</td>\n",
       "      <td>NaN</td>\n",
       "      <td>1</td>\n",
       "      <td>Positve</td>\n",
       "      <td>NaN</td>\n",
       "      <td>NaN</td>\n",
       "      <td>NaN</td>\n",
       "      <td>...</td>\n",
       "      <td>NaN</td>\n",
       "      <td>NaN</td>\n",
       "      <td>NaN</td>\n",
       "      <td>NaN</td>\n",
       "      <td>NaN</td>\n",
       "      <td>NaN</td>\n",
       "      <td>Ductal/NST</td>\n",
       "      <td>NaN</td>\n",
       "      <td>1:Recurred</td>\n",
       "      <td>126.32</td>\n",
       "    </tr>\n",
       "  </tbody>\n",
       "</table>\n",
       "<p>10 rows × 22 columns</p>\n",
       "</div>"
      ],
      "text/plain": [
       "   PATIENT_ID  LYMPH_NODES_EXAMINED_POSITIVE    NPI CELLULARITY CHEMOTHERAPY  \\\n",
       "0           1                           10.0  6.044         NaN           NO   \n",
       "1           2                            0.0  4.020        High           NO   \n",
       "2           3                            1.0  4.030        High          YES   \n",
       "3           4                            3.0  4.050    Moderate          YES   \n",
       "4           5                            8.0  6.080        High          YES   \n",
       "5           6                            0.0  4.062    Moderate           NO   \n",
       "6           7                            1.0  4.020    Moderate          YES   \n",
       "7           8                            NaN  6.130        High          YES   \n",
       "8           9                            1.0  4.058    Moderate           NO   \n",
       "9          10                           11.0  6.680         NaN          NaN   \n",
       "\n",
       "   COHORT    ER_IHC HER2_SNP6 HORMONE_THERAPY INFERRED_MENOPAUSAL_STATE  ...  \\\n",
       "0       1   Positve   NEUTRAL             YES                      Post  ...   \n",
       "1       1   Positve   NEUTRAL             YES                       Pre  ...   \n",
       "2       1   Positve   NEUTRAL             YES                       Pre  ...   \n",
       "3       1   Positve   NEUTRAL             YES                       Pre  ...   \n",
       "4       1   Positve   NEUTRAL             YES                      Post  ...   \n",
       "5       1   Positve   NEUTRAL             YES                      Post  ...   \n",
       "6       1   Positve      LOSS             YES                      Post  ...   \n",
       "7       1  Negative   NEUTRAL              NO                      Post  ...   \n",
       "8       1   Positve   NEUTRAL             YES                      Post  ...   \n",
       "9       1   Positve       NaN             NaN                       NaN  ...   \n",
       "\n",
       "    OS_MONTHS   OS_STATUS  CLAUDIN_SUBTYPE          VITAL_STATUS LATERALITY  \\\n",
       "0  140.500000    0:LIVING      claudin-low                Living      Right   \n",
       "1   84.633333    0:LIVING             LumA                Living      Right   \n",
       "2  163.700000  1:DECEASED             LumB       Died of Disease      Right   \n",
       "3  164.933333    0:LIVING             LumB                Living      Right   \n",
       "4   41.366667  1:DECEASED             LumB       Died of Disease      Right   \n",
       "5    7.800000  1:DECEASED             LumB       Died of Disease       Left   \n",
       "6  164.333333    0:LIVING             LumB                Living      Right   \n",
       "7   22.400000  1:DECEASED           Normal       Died of Disease       Left   \n",
       "8   99.533333  1:DECEASED      claudin-low  Died of Other Causes       Left   \n",
       "9         NaN         NaN              NaN                   NaN        NaN   \n",
       "\n",
       "  RADIO_THERAPY HISTOLOGICAL_SUBTYPE     BREAST_SURGERY      RFS_STATUS  \\\n",
       "0           YES           Ductal/NST         MASTECTOMY  0:Not Recurred   \n",
       "1           YES           Ductal/NST  BREAST CONSERVING  0:Not Recurred   \n",
       "2            NO           Ductal/NST         MASTECTOMY      1:Recurred   \n",
       "3           YES                Mixed         MASTECTOMY  0:Not Recurred   \n",
       "4           YES                Mixed         MASTECTOMY      1:Recurred   \n",
       "5           YES           Ductal/NST         MASTECTOMY      1:Recurred   \n",
       "6           YES           Ductal/NST  BREAST CONSERVING  0:Not Recurred   \n",
       "7           YES              Lobular         MASTECTOMY      1:Recurred   \n",
       "8           YES                Mixed  BREAST CONSERVING  0:Not Recurred   \n",
       "9           NaN           Ductal/NST                NaN      1:Recurred   \n",
       "\n",
       "  RFS_MONTHS  \n",
       "0     138.65  \n",
       "1      83.52  \n",
       "2     151.28  \n",
       "3     162.76  \n",
       "4      18.55  \n",
       "5       2.89  \n",
       "6     162.17  \n",
       "7      11.74  \n",
       "8      98.22  \n",
       "9     126.32  \n",
       "\n",
       "[10 rows x 22 columns]"
      ]
     },
     "execution_count": 2,
     "metadata": {},
     "output_type": "execute_result"
    }
   ],
   "source": [
    "#Read the CSV with semicolon delimiter\n",
    "breast_cancer_df = pd.read_csv(\"breast_cancer_data.csv\", delimiter=';')\n",
    "#Print the shape of the dataframe  \n",
    "print(breast_cancer_df.shape) \n",
    "#Display the first ten rows of the dataframe\n",
    "breast_cancer_df.head(10)"
   ]
  },
  {
   "cell_type": "markdown",
   "metadata": {},
   "source": [
    "Note: Due to the wide format of the DataFrame with 22 columns, the output is truncated. The displayed rows and columns offer a glimpse of the data."
   ]
  },
  {
   "cell_type": "markdown",
   "metadata": {},
   "source": [
    "**STEP 1: DROPPING IRRELEVANT COLUMNS**"
   ]
  },
  {
   "cell_type": "markdown",
   "metadata": {},
   "source": [
    "PATIENT_ID column show the unique identifier for each patient. We have made the decision to drop the 'PATIENT_ID' column, as it serves as a unique identifier and does not contribute to the analysis of breast cancer outcomes."
   ]
  },
  {
   "cell_type": "code",
   "execution_count": 3,
   "metadata": {},
   "outputs": [],
   "source": [
    "#Drop the 'PATIENT_ID' column\n",
    "breast_cancer_df = breast_cancer_df.drop(columns=['PATIENT_ID'])"
   ]
  },
  {
   "cell_type": "markdown",
   "metadata": {},
   "source": [
    "Since breast cancer predominantly affects individuals who identify as female, we have made the decision to remove the 'SEX' column from the dataset. Since all entries pertain to 'female,' this column does not provide additional discriminatory information."
   ]
  },
  {
   "cell_type": "code",
   "execution_count": 4,
   "metadata": {},
   "outputs": [],
   "source": [
    "#Drop the 'SEX' column\n",
    "breast_cancer_df = breast_cancer_df.drop(columns=['SEX'])"
   ]
  },
  {
   "cell_type": "markdown",
   "metadata": {},
   "source": [
    "**STEP 2: HANDLING MISSING VALUES**"
   ]
  },
  {
   "cell_type": "markdown",
   "metadata": {
    "collapsed": false
   },
   "source": [
    "Since the dataset is produced from breast cancer patient diagnoses and some patients may choose not to take all tests providing diagnoses, there will be missing data. We have initiated a thorough examination of the dataset to identify any columns with a substantial number of missing values that could potentially affect the dataset's performance. To achieve this, we executed the following code to count the number of empty values in each column."
   ]
  },
  {
   "cell_type": "code",
   "execution_count": 5,
   "metadata": {},
   "outputs": [
    {
     "data": {
      "text/plain": [
       "LYMPH_NODES_EXAMINED_POSITIVE     76\n",
       "NPI                                1\n",
       "CELLULARITY                       68\n",
       "CHEMOTHERAPY                       5\n",
       "COHORT                             0\n",
       "ER_IHC                            43\n",
       "HER2_SNP6                          5\n",
       "HORMONE_THERAPY                    5\n",
       "INFERRED_MENOPAUSAL_STATE          5\n",
       "AGE_AT_DIAGNOSIS                   0\n",
       "OS_MONTHS                          4\n",
       "OS_STATUS                          4\n",
       "CLAUDIN_SUBTYPE                    5\n",
       "VITAL_STATUS                       5\n",
       "LATERALITY                       115\n",
       "RADIO_THERAPY                      5\n",
       "HISTOLOGICAL_SUBTYPE              46\n",
       "BREAST_SURGERY                    30\n",
       "RFS_STATUS                         1\n",
       "RFS_MONTHS                         0\n",
       "dtype: int64"
      ]
     },
     "execution_count": 5,
     "metadata": {},
     "output_type": "execute_result"
    }
   ],
   "source": [
    "#Count the number of empty values in each columns:\n",
    "breast_cancer_df.isna().sum()"
   ]
  },
  {
   "cell_type": "markdown",
   "metadata": {},
   "source": [
    "Our research question primarily centers around predicting patient survival (VITAL_STATUS). Thus, we have decided to focus exclusively on breast cancer patients who are either still living or have tragically passed away due to breast cancer. The 'VITAL_STATUS' column in our dataset contains four distinct values: 'Living,' 'Died of Disease,' 'Died of Other Causes,' and missing values (NaN).\n",
    "\n",
    "To ensure the dataset's integrity and alignment with our research objective, we have removed rows that contain missing values or are listed as 'Died of Other Causes' in the 'VITAL_STATUS' column. This step was carried out as follows:"
   ]
  },
  {
   "cell_type": "code",
   "execution_count": 6,
   "metadata": {},
   "outputs": [],
   "source": [
    "#Drop the rows that have VITAL_STATUS column missing value\n",
    "breast_cancer_df = breast_cancer_df.dropna(subset=['VITAL_STATUS'])\n",
    "#Drop rows where VITAL_STATUS is \"Died of Other Causes\"\n",
    "breast_cancer_df = breast_cancer_df[breast_cancer_df\n",
    "['VITAL_STATUS']!='Died of Other Causes']"
   ]
  },
  {
   "cell_type": "markdown",
   "metadata": {},
   "source": [
    "In our comprehensive data exploration, we identified that the top three columns with missing values are 'LATERALITY,' 'LYMPH_NODES_EXAMINED_POSITIVE,' and 'CELLULARITY.' \n",
    "\n",
    "While these columns exhibit missing values, the number of missing entries is relatively small in comparison to the total data points within each column. However, since 'LATERALITY' and 'CELLULARITY' are categorical variables, and 'LATERALITY' holds the highest count of missing values, we have decided not to perform data imputation but rather remove rows containing NaN values in these columns."
   ]
  },
  {
   "cell_type": "markdown",
   "metadata": {},
   "source": [
    "'LATERALITY' primarily indicates whether cancer is present in the left or right breast. There are many reasons why data could be missing in this column, but there is no way to infer what the missing values should be - additionally, this is a categorical variable, so data imputation cannot be performed. Consequently, we have opted to drop rows with missing values in the 'LATERALITY' column:"
   ]
  },
  {
   "cell_type": "code",
   "execution_count": 7,
   "metadata": {},
   "outputs": [],
   "source": [
    "#Drop the rows that have LATERALITY column missing value\n",
    "breast_cancer_df = breast_cancer_df.dropna(subset=['LATERALITY'])"
   ]
  },
  {
   "cell_type": "markdown",
   "metadata": {},
   "source": [
    "Similarly, 'CELLULARITY' pertains to the density or concentration of tumor cells within a tissue or sample, categorized into 'High,' 'Medium,' and 'Low' levels. We have chosen not to replace missing values with the mean or median, as these may inadvertently introduce bias into the dataset. This is especially true since with the information we have, there is no telling what the boundaries between the three different categories are. Therefore, we have elected to remove rows with missing 'CELLULARITY' values:"
   ]
  },
  {
   "cell_type": "code",
   "execution_count": 8,
   "metadata": {},
   "outputs": [],
   "source": [
    "#Drop the rows that have CELLULARITY column missing value\n",
    "breast_cancer_df = breast_cancer_df.dropna(subset=['CELLULARITY'])"
   ]
  },
  {
   "cell_type": "markdown",
   "metadata": {},
   "source": [
    "However, in the case of 'LYMPH_NODES_EXAMINED_POSITIVE,' which denotes the presence of cancer cells in surgically removed and examined lymph nodes as a numerical count, we will employ a different approach. To maintain data integrity and address the missing values, we will replace these entries with the median of the column:"
   ]
  },
  {
   "cell_type": "code",
   "execution_count": 9,
   "metadata": {},
   "outputs": [],
   "source": [
    "#Calculate the median of the 'LYMPH_NODES_EXAMINED_POSITIVE' column\n",
    "LYMPH_median = breast_cancer_df['LYMPH_NODES_EXAMINED_POSITIVE'].median()\n",
    "#Replace missing values (NaN) with the median\n",
    "breast_cancer_df['LYMPH_NODES_EXAMINED_POSITIVE'].fillna(LYMPH_median,inplace=True)"
   ]
  },
  {
   "cell_type": "markdown",
   "metadata": {},
   "source": [
    "For other columns that contain missing values, after careful consideration while running the hypotheses, we have decided to drop all the missing values since the proportion (number of missing values out of 1985 data point for each column) is quite small. Additionally, if left in, these missing values would cause some confusion in the data analysis section we will run later on."
   ]
  },
  {
   "cell_type": "code",
   "execution_count": 10,
   "metadata": {},
   "outputs": [],
   "source": [
    "#Identify all columns with missing values\n",
    "columns_with_na = ['NPI', 'CHEMOTHERAPY', 'ER_IHC', \n",
    "                   'HER2_SNP6', 'HORMONE_THERAPY', 'INFERRED_MENOPAUSAL_STATE', \n",
    "                   'OS_MONTHS', 'OS_STATUS', 'CLAUDIN_SUBTYPE', 'RADIO_THERAPY', \n",
    "                   'HISTOLOGICAL_SUBTYPE', 'BREAST_SURGERY', 'RFS_STATUS']\n",
    "#Drop all rows with missing values (NaN) from the above columns\n",
    "breast_cancer_df = breast_cancer_df.dropna(subset=columns_with_na)"
   ]
  },
  {
   "cell_type": "markdown",
   "metadata": {},
   "source": [
    "After performing some initial necessary data cleaning steps, the shape of the breast_cancer_df dataframe is as follows:"
   ]
  },
  {
   "cell_type": "code",
   "execution_count": 11,
   "metadata": {},
   "outputs": [
    {
     "name": "stdout",
     "output_type": "stream",
     "text": [
      "(1307, 20)\n"
     ]
    },
    {
     "data": {
      "text/html": [
       "<div>\n",
       "<style scoped>\n",
       "    .dataframe tbody tr th:only-of-type {\n",
       "        vertical-align: middle;\n",
       "    }\n",
       "\n",
       "    .dataframe tbody tr th {\n",
       "        vertical-align: top;\n",
       "    }\n",
       "\n",
       "    .dataframe thead th {\n",
       "        text-align: right;\n",
       "    }\n",
       "</style>\n",
       "<table border=\"1\" class=\"dataframe\">\n",
       "  <thead>\n",
       "    <tr style=\"text-align: right;\">\n",
       "      <th></th>\n",
       "      <th>LYMPH_NODES_EXAMINED_POSITIVE</th>\n",
       "      <th>NPI</th>\n",
       "      <th>CELLULARITY</th>\n",
       "      <th>CHEMOTHERAPY</th>\n",
       "      <th>COHORT</th>\n",
       "      <th>ER_IHC</th>\n",
       "      <th>HER2_SNP6</th>\n",
       "      <th>HORMONE_THERAPY</th>\n",
       "      <th>INFERRED_MENOPAUSAL_STATE</th>\n",
       "      <th>AGE_AT_DIAGNOSIS</th>\n",
       "      <th>OS_MONTHS</th>\n",
       "      <th>OS_STATUS</th>\n",
       "      <th>CLAUDIN_SUBTYPE</th>\n",
       "      <th>VITAL_STATUS</th>\n",
       "      <th>LATERALITY</th>\n",
       "      <th>RADIO_THERAPY</th>\n",
       "      <th>HISTOLOGICAL_SUBTYPE</th>\n",
       "      <th>BREAST_SURGERY</th>\n",
       "      <th>RFS_STATUS</th>\n",
       "      <th>RFS_MONTHS</th>\n",
       "    </tr>\n",
       "  </thead>\n",
       "  <tbody>\n",
       "    <tr>\n",
       "      <th>1</th>\n",
       "      <td>0.0</td>\n",
       "      <td>4.020</td>\n",
       "      <td>High</td>\n",
       "      <td>NO</td>\n",
       "      <td>1</td>\n",
       "      <td>Positve</td>\n",
       "      <td>NEUTRAL</td>\n",
       "      <td>YES</td>\n",
       "      <td>Pre</td>\n",
       "      <td>43.19</td>\n",
       "      <td>84.633333</td>\n",
       "      <td>0:LIVING</td>\n",
       "      <td>LumA</td>\n",
       "      <td>Living</td>\n",
       "      <td>Right</td>\n",
       "      <td>YES</td>\n",
       "      <td>Ductal/NST</td>\n",
       "      <td>BREAST CONSERVING</td>\n",
       "      <td>0:Not Recurred</td>\n",
       "      <td>83.52</td>\n",
       "    </tr>\n",
       "    <tr>\n",
       "      <th>2</th>\n",
       "      <td>1.0</td>\n",
       "      <td>4.030</td>\n",
       "      <td>High</td>\n",
       "      <td>YES</td>\n",
       "      <td>1</td>\n",
       "      <td>Positve</td>\n",
       "      <td>NEUTRAL</td>\n",
       "      <td>YES</td>\n",
       "      <td>Pre</td>\n",
       "      <td>48.87</td>\n",
       "      <td>163.700000</td>\n",
       "      <td>1:DECEASED</td>\n",
       "      <td>LumB</td>\n",
       "      <td>Died of Disease</td>\n",
       "      <td>Right</td>\n",
       "      <td>NO</td>\n",
       "      <td>Ductal/NST</td>\n",
       "      <td>MASTECTOMY</td>\n",
       "      <td>1:Recurred</td>\n",
       "      <td>151.28</td>\n",
       "    </tr>\n",
       "    <tr>\n",
       "      <th>3</th>\n",
       "      <td>3.0</td>\n",
       "      <td>4.050</td>\n",
       "      <td>Moderate</td>\n",
       "      <td>YES</td>\n",
       "      <td>1</td>\n",
       "      <td>Positve</td>\n",
       "      <td>NEUTRAL</td>\n",
       "      <td>YES</td>\n",
       "      <td>Pre</td>\n",
       "      <td>47.68</td>\n",
       "      <td>164.933333</td>\n",
       "      <td>0:LIVING</td>\n",
       "      <td>LumB</td>\n",
       "      <td>Living</td>\n",
       "      <td>Right</td>\n",
       "      <td>YES</td>\n",
       "      <td>Mixed</td>\n",
       "      <td>MASTECTOMY</td>\n",
       "      <td>0:Not Recurred</td>\n",
       "      <td>162.76</td>\n",
       "    </tr>\n",
       "    <tr>\n",
       "      <th>4</th>\n",
       "      <td>8.0</td>\n",
       "      <td>6.080</td>\n",
       "      <td>High</td>\n",
       "      <td>YES</td>\n",
       "      <td>1</td>\n",
       "      <td>Positve</td>\n",
       "      <td>NEUTRAL</td>\n",
       "      <td>YES</td>\n",
       "      <td>Post</td>\n",
       "      <td>76.97</td>\n",
       "      <td>41.366667</td>\n",
       "      <td>1:DECEASED</td>\n",
       "      <td>LumB</td>\n",
       "      <td>Died of Disease</td>\n",
       "      <td>Right</td>\n",
       "      <td>YES</td>\n",
       "      <td>Mixed</td>\n",
       "      <td>MASTECTOMY</td>\n",
       "      <td>1:Recurred</td>\n",
       "      <td>18.55</td>\n",
       "    </tr>\n",
       "    <tr>\n",
       "      <th>5</th>\n",
       "      <td>0.0</td>\n",
       "      <td>4.062</td>\n",
       "      <td>Moderate</td>\n",
       "      <td>NO</td>\n",
       "      <td>1</td>\n",
       "      <td>Positve</td>\n",
       "      <td>NEUTRAL</td>\n",
       "      <td>YES</td>\n",
       "      <td>Post</td>\n",
       "      <td>78.77</td>\n",
       "      <td>7.800000</td>\n",
       "      <td>1:DECEASED</td>\n",
       "      <td>LumB</td>\n",
       "      <td>Died of Disease</td>\n",
       "      <td>Left</td>\n",
       "      <td>YES</td>\n",
       "      <td>Ductal/NST</td>\n",
       "      <td>MASTECTOMY</td>\n",
       "      <td>1:Recurred</td>\n",
       "      <td>2.89</td>\n",
       "    </tr>\n",
       "    <tr>\n",
       "      <th>6</th>\n",
       "      <td>1.0</td>\n",
       "      <td>4.020</td>\n",
       "      <td>Moderate</td>\n",
       "      <td>YES</td>\n",
       "      <td>1</td>\n",
       "      <td>Positve</td>\n",
       "      <td>LOSS</td>\n",
       "      <td>YES</td>\n",
       "      <td>Post</td>\n",
       "      <td>56.45</td>\n",
       "      <td>164.333333</td>\n",
       "      <td>0:LIVING</td>\n",
       "      <td>LumB</td>\n",
       "      <td>Living</td>\n",
       "      <td>Right</td>\n",
       "      <td>YES</td>\n",
       "      <td>Ductal/NST</td>\n",
       "      <td>BREAST CONSERVING</td>\n",
       "      <td>0:Not Recurred</td>\n",
       "      <td>162.17</td>\n",
       "    </tr>\n",
       "    <tr>\n",
       "      <th>7</th>\n",
       "      <td>0.0</td>\n",
       "      <td>6.130</td>\n",
       "      <td>High</td>\n",
       "      <td>YES</td>\n",
       "      <td>1</td>\n",
       "      <td>Negative</td>\n",
       "      <td>NEUTRAL</td>\n",
       "      <td>NO</td>\n",
       "      <td>Post</td>\n",
       "      <td>70.00</td>\n",
       "      <td>22.400000</td>\n",
       "      <td>1:DECEASED</td>\n",
       "      <td>Normal</td>\n",
       "      <td>Died of Disease</td>\n",
       "      <td>Left</td>\n",
       "      <td>YES</td>\n",
       "      <td>Lobular</td>\n",
       "      <td>MASTECTOMY</td>\n",
       "      <td>1:Recurred</td>\n",
       "      <td>11.74</td>\n",
       "    </tr>\n",
       "    <tr>\n",
       "      <th>11</th>\n",
       "      <td>0.0</td>\n",
       "      <td>3.056</td>\n",
       "      <td>High</td>\n",
       "      <td>NO</td>\n",
       "      <td>1</td>\n",
       "      <td>Negative</td>\n",
       "      <td>LOSS</td>\n",
       "      <td>NO</td>\n",
       "      <td>Post</td>\n",
       "      <td>84.22</td>\n",
       "      <td>36.266667</td>\n",
       "      <td>1:DECEASED</td>\n",
       "      <td>Her2</td>\n",
       "      <td>Died of Disease</td>\n",
       "      <td>Left</td>\n",
       "      <td>NO</td>\n",
       "      <td>Lobular</td>\n",
       "      <td>MASTECTOMY</td>\n",
       "      <td>1:Recurred</td>\n",
       "      <td>35.79</td>\n",
       "    </tr>\n",
       "    <tr>\n",
       "      <th>12</th>\n",
       "      <td>0.0</td>\n",
       "      <td>3.044</td>\n",
       "      <td>Moderate</td>\n",
       "      <td>NO</td>\n",
       "      <td>1</td>\n",
       "      <td>Positve</td>\n",
       "      <td>NEUTRAL</td>\n",
       "      <td>YES</td>\n",
       "      <td>Post</td>\n",
       "      <td>85.49</td>\n",
       "      <td>132.033333</td>\n",
       "      <td>1:DECEASED</td>\n",
       "      <td>LumA</td>\n",
       "      <td>Died of Disease</td>\n",
       "      <td>Left</td>\n",
       "      <td>YES</td>\n",
       "      <td>Ductal/NST</td>\n",
       "      <td>MASTECTOMY</td>\n",
       "      <td>1:Recurred</td>\n",
       "      <td>123.32</td>\n",
       "    </tr>\n",
       "    <tr>\n",
       "      <th>13</th>\n",
       "      <td>0.0</td>\n",
       "      <td>2.042</td>\n",
       "      <td>High</td>\n",
       "      <td>NO</td>\n",
       "      <td>1</td>\n",
       "      <td>Positve</td>\n",
       "      <td>GAIN</td>\n",
       "      <td>YES</td>\n",
       "      <td>Post</td>\n",
       "      <td>70.91</td>\n",
       "      <td>163.533333</td>\n",
       "      <td>0:LIVING</td>\n",
       "      <td>LumB</td>\n",
       "      <td>Living</td>\n",
       "      <td>Left</td>\n",
       "      <td>YES</td>\n",
       "      <td>Ductal/NST</td>\n",
       "      <td>BREAST CONSERVING</td>\n",
       "      <td>0:Not Recurred</td>\n",
       "      <td>161.38</td>\n",
       "    </tr>\n",
       "  </tbody>\n",
       "</table>\n",
       "</div>"
      ],
      "text/plain": [
       "    LYMPH_NODES_EXAMINED_POSITIVE    NPI CELLULARITY CHEMOTHERAPY  COHORT  \\\n",
       "1                             0.0  4.020        High           NO       1   \n",
       "2                             1.0  4.030        High          YES       1   \n",
       "3                             3.0  4.050    Moderate          YES       1   \n",
       "4                             8.0  6.080        High          YES       1   \n",
       "5                             0.0  4.062    Moderate           NO       1   \n",
       "6                             1.0  4.020    Moderate          YES       1   \n",
       "7                             0.0  6.130        High          YES       1   \n",
       "11                            0.0  3.056        High           NO       1   \n",
       "12                            0.0  3.044    Moderate           NO       1   \n",
       "13                            0.0  2.042        High           NO       1   \n",
       "\n",
       "      ER_IHC HER2_SNP6 HORMONE_THERAPY INFERRED_MENOPAUSAL_STATE  \\\n",
       "1    Positve   NEUTRAL             YES                       Pre   \n",
       "2    Positve   NEUTRAL             YES                       Pre   \n",
       "3    Positve   NEUTRAL             YES                       Pre   \n",
       "4    Positve   NEUTRAL             YES                      Post   \n",
       "5    Positve   NEUTRAL             YES                      Post   \n",
       "6    Positve      LOSS             YES                      Post   \n",
       "7   Negative   NEUTRAL              NO                      Post   \n",
       "11  Negative      LOSS              NO                      Post   \n",
       "12   Positve   NEUTRAL             YES                      Post   \n",
       "13   Positve      GAIN             YES                      Post   \n",
       "\n",
       "    AGE_AT_DIAGNOSIS   OS_MONTHS   OS_STATUS CLAUDIN_SUBTYPE     VITAL_STATUS  \\\n",
       "1              43.19   84.633333    0:LIVING            LumA           Living   \n",
       "2              48.87  163.700000  1:DECEASED            LumB  Died of Disease   \n",
       "3              47.68  164.933333    0:LIVING            LumB           Living   \n",
       "4              76.97   41.366667  1:DECEASED            LumB  Died of Disease   \n",
       "5              78.77    7.800000  1:DECEASED            LumB  Died of Disease   \n",
       "6              56.45  164.333333    0:LIVING            LumB           Living   \n",
       "7              70.00   22.400000  1:DECEASED          Normal  Died of Disease   \n",
       "11             84.22   36.266667  1:DECEASED            Her2  Died of Disease   \n",
       "12             85.49  132.033333  1:DECEASED            LumA  Died of Disease   \n",
       "13             70.91  163.533333    0:LIVING            LumB           Living   \n",
       "\n",
       "   LATERALITY RADIO_THERAPY HISTOLOGICAL_SUBTYPE     BREAST_SURGERY  \\\n",
       "1       Right           YES           Ductal/NST  BREAST CONSERVING   \n",
       "2       Right            NO           Ductal/NST         MASTECTOMY   \n",
       "3       Right           YES                Mixed         MASTECTOMY   \n",
       "4       Right           YES                Mixed         MASTECTOMY   \n",
       "5        Left           YES           Ductal/NST         MASTECTOMY   \n",
       "6       Right           YES           Ductal/NST  BREAST CONSERVING   \n",
       "7        Left           YES              Lobular         MASTECTOMY   \n",
       "11       Left            NO              Lobular         MASTECTOMY   \n",
       "12       Left           YES           Ductal/NST         MASTECTOMY   \n",
       "13       Left           YES           Ductal/NST  BREAST CONSERVING   \n",
       "\n",
       "        RFS_STATUS  RFS_MONTHS  \n",
       "1   0:Not Recurred       83.52  \n",
       "2       1:Recurred      151.28  \n",
       "3   0:Not Recurred      162.76  \n",
       "4       1:Recurred       18.55  \n",
       "5       1:Recurred        2.89  \n",
       "6   0:Not Recurred      162.17  \n",
       "7       1:Recurred       11.74  \n",
       "11      1:Recurred       35.79  \n",
       "12      1:Recurred      123.32  \n",
       "13  0:Not Recurred      161.38  "
      ]
     },
     "execution_count": 11,
     "metadata": {},
     "output_type": "execute_result"
    }
   ],
   "source": [
    "#Print the shape of the dataframe  \n",
    "print(breast_cancer_df.shape) \n",
    "#Display the first ten rows of the dataframe\n",
    "breast_cancer_df.head(10)"
   ]
  },
  {
   "cell_type": "markdown",
   "metadata": {},
   "source": [
    "Note: Due to the wide format of the DataFrame with 20 columns, the output is truncated. The displayed rows and columns offer a glimpse of the data.\n"
   ]
  },
  {
   "cell_type": "markdown",
   "metadata": {},
   "source": [
    "### Data Encoding"
   ]
  },
  {
   "cell_type": "markdown",
   "metadata": {},
   "source": [
    "To prepare the dataset for logistic regression and ensure that our variables are appropriately encoded, it's crucial to inspect the data types of each column. We want to achieve this by first checking the data type of each column."
   ]
  },
  {
   "cell_type": "code",
   "execution_count": 12,
   "metadata": {},
   "outputs": [
    {
     "data": {
      "text/plain": [
       "LYMPH_NODES_EXAMINED_POSITIVE    float64\n",
       "NPI                              float64\n",
       "CELLULARITY                       object\n",
       "CHEMOTHERAPY                      object\n",
       "COHORT                             int64\n",
       "ER_IHC                            object\n",
       "HER2_SNP6                         object\n",
       "HORMONE_THERAPY                   object\n",
       "INFERRED_MENOPAUSAL_STATE         object\n",
       "AGE_AT_DIAGNOSIS                 float64\n",
       "OS_MONTHS                        float64\n",
       "OS_STATUS                         object\n",
       "CLAUDIN_SUBTYPE                   object\n",
       "VITAL_STATUS                      object\n",
       "LATERALITY                        object\n",
       "RADIO_THERAPY                     object\n",
       "HISTOLOGICAL_SUBTYPE              object\n",
       "BREAST_SURGERY                    object\n",
       "RFS_STATUS                        object\n",
       "RFS_MONTHS                       float64\n",
       "dtype: object"
      ]
     },
     "execution_count": 12,
     "metadata": {},
     "output_type": "execute_result"
    }
   ],
   "source": [
    "#Look at the data types to see which columns need to be encoded:\n",
    "breast_cancer_df.dtypes"
   ]
  },
  {
   "cell_type": "markdown",
   "metadata": {},
   "source": [
    "For the variables with an 'object' data type, we will perform data encoding. We categorize these variables into two categories:\n",
    "\n",
    "1. Two-Category Variables: These are variables with only two possible values, such as 'Yes/No,' 'Negative/Positive,' etc.\n",
    "\n",
    "2. Multi-Category Variables: These are variables with more than two possible values, such as 'High/Medium/Low,' etc.\n",
    "\n",
    "We will encode the two-category variables into binary format (0 for one value, 1 for the other), making them suitable for use in further analysis. For multi-category variables, we will apply another mapping technique to represent the categories."
   ]
  },
  {
   "cell_type": "markdown",
   "metadata": {},
   "source": [
    "**DATA ENCODING - BINARY VARIABLES**"
   ]
  },
  {
   "cell_type": "markdown",
   "metadata": {},
   "source": [
    "Within our dataset, several columns, specifically 'CHEMOTHERAPY,' 'ER_IHC,' 'HORMONE_THERAPY,' 'VITAL_STATUS,' 'LATERALITY,' 'RADIO_THERAPY,' 'BREAST_SURGERY,' 'RFS_STATUS,' 'OS_STATUS,' and 'INFERRED_MENOPAUSAL_STATE,' represent categorical variables with binary values (two categories). To ensure they are suitable for analysis, we will perform encoding on these columns. It's worth noting that each of these columns employs distinct notations, so we will handle their encoding individually and systematically."
   ]
  },
  {
   "cell_type": "markdown",
   "metadata": {},
   "source": [
    "To perform this encoding, we use a dictionary called binary_mapping to specify the mappings for each variable. This dictionary pairs the category labels (\"No\" and \"Yes\", \"Positive\" and \"Negative\",..) with their corresponding numerical values (0 and 1). We then iterate through the binary columns using a for loop and apply the mapping using the map function. This replaces the original categorical values with their numeric equivalents in the dataset, making it ready for further analysis and modeling.\n",
    "\n",
    "By encoding these binary variables, we ensure that they are in a format that can be used in logistic regression algorithms, contributing to a more comprehensive analysis of the dataset."
   ]
  },
  {
   "cell_type": "markdown",
   "metadata": {},
   "source": [
    "CHEMOTHERAPY: No = 0, Yes = 1 \n",
    "\n",
    "RADIO_THERAPY:  No = 0, Yes = 1 \n",
    "\n",
    "HORMONE_THERAPY:  No = 0, Yes = 1 "
   ]
  },
  {
   "cell_type": "code",
   "execution_count": 13,
   "metadata": {},
   "outputs": [],
   "source": [
    "#encode CHEMOTHERAPY, HORMONE_THERAPY and RADIO_THERAPY columns\n",
    "binary_columns = ['CHEMOTHERAPY', 'HORMONE_THERAPY', 'RADIO_THERAPY']\n",
    "#Define the mapping of values for encoding\n",
    "binary_mapping = {\n",
    "    'NO': 0,\n",
    "    'YES': 1\n",
    "}\n",
    "for column in binary_columns:\n",
    "    breast_cancer_df[column] = breast_cancer_df[column].map(binary_mapping)"
   ]
  },
  {
   "cell_type": "markdown",
   "metadata": {},
   "source": [
    "ER_IHC: Negative = 0, Positive = 1 "
   ]
  },
  {
   "cell_type": "code",
   "execution_count": 14,
   "metadata": {},
   "outputs": [],
   "source": [
    "#encode the ER_IHC column\n",
    "er_column = ['ER_IHC']\n",
    "#Define the mapping of values for encoding\n",
    "er_mapping = {\n",
    "    'Negative': 0,\n",
    "    'Positve': 1\n",
    "}\n",
    "for column in er_column:\n",
    "    breast_cancer_df[column] = breast_cancer_df[column].map(er_mapping)"
   ]
  },
  {
   "cell_type": "markdown",
   "metadata": {},
   "source": [
    "VITAL_STATUS: Living = 0, Died of Disease = 1"
   ]
  },
  {
   "cell_type": "code",
   "execution_count": 15,
   "metadata": {},
   "outputs": [
    {
     "data": {
      "text/plain": [
       "{'Died of Disease', 'Living'}"
      ]
     },
     "execution_count": 15,
     "metadata": {},
     "output_type": "execute_result"
    }
   ],
   "source": [
    "#check the data in VITAL_STATUS column\n",
    "set(breast_cancer_df[\"VITAL_STATUS\"])"
   ]
  },
  {
   "cell_type": "code",
   "execution_count": 16,
   "metadata": {},
   "outputs": [],
   "source": [
    "#encode the VITAL_STATUS column\n",
    "vital_column = ['VITAL_STATUS']\n",
    "#Define the mapping of values for encoding\n",
    "vital_mapping = {\n",
    "    'Living': 0,\n",
    "    'Died of Disease': 1\n",
    "}\n",
    "for column in vital_column:\n",
    "    breast_cancer_df[column] = breast_cancer_df[column].map(vital_mapping)"
   ]
  },
  {
   "cell_type": "markdown",
   "metadata": {},
   "source": [
    "LATERALITY: Left = 0 AND Right = 1"
   ]
  },
  {
   "cell_type": "code",
   "execution_count": 17,
   "metadata": {},
   "outputs": [],
   "source": [
    "#encode the LATERALITY column\n",
    "la_column = ['LATERALITY']\n",
    "#Define the mapping of values for encoding\n",
    "la_mapping = {\n",
    "    'Left': 0,\n",
    "    'Right': 1\n",
    "}\n",
    "for column in la_column:\n",
    "    breast_cancer_df[column] = breast_cancer_df[column].map(la_mapping)"
   ]
  },
  {
   "cell_type": "markdown",
   "metadata": {},
   "source": [
    "BREAST_SURGERY: BREAST CONSERVING = 0 AND MASTECTOMY = 1"
   ]
  },
  {
   "cell_type": "code",
   "execution_count": 18,
   "metadata": {},
   "outputs": [],
   "source": [
    "#encode the BREAST_SURGERY column\n",
    "sur_column = ['BREAST_SURGERY']\n",
    "#Define the mapping of values for encoding\n",
    "sur_mapping = {\n",
    "    'BREAST CONSERVING': 0,\n",
    "    'MASTECTOMY': 1\n",
    "}\n",
    "for column in sur_column:\n",
    "    breast_cancer_df[column] = breast_cancer_df[column].map(sur_mapping)"
   ]
  },
  {
   "cell_type": "markdown",
   "metadata": {},
   "source": [
    "RFS_STATUS: 0:Not Recurred = 0 AND Recurred = 1"
   ]
  },
  {
   "cell_type": "code",
   "execution_count": 19,
   "metadata": {},
   "outputs": [],
   "source": [
    "#encode the RFS_STATUS column\n",
    "rfs_column = ['RFS_STATUS']\n",
    "#Define the mapping of values for encoding\n",
    "rfs_mapping = {\n",
    "    '0:Not Recurred': 0,\n",
    "    '1:Recurred': 1\n",
    "}\n",
    "for column in rfs_column:\n",
    "    breast_cancer_df[column] = breast_cancer_df[column].map(rfs_mapping)"
   ]
  },
  {
   "cell_type": "markdown",
   "metadata": {},
   "source": [
    "OS_STATUS: LIVING = 0 AND DECEASED = 1"
   ]
  },
  {
   "cell_type": "code",
   "execution_count": 20,
   "metadata": {},
   "outputs": [],
   "source": [
    "#encode the OS_STATUS column\n",
    "os_column = ['OS_STATUS']\n",
    "#Define the mapping of values for encoding\n",
    "os_mapping = {\n",
    "    '0:LIVING': 0,\n",
    "    '1:DECEASED': 1\n",
    "}\n",
    "for column in os_column:\n",
    "    breast_cancer_df[column] = breast_cancer_df[column].map(os_mapping)"
   ]
  },
  {
   "cell_type": "markdown",
   "metadata": {},
   "source": [
    "INFERRED_MENOPAUSAL_STATE: Pre = 0, Post = 1 "
   ]
  },
  {
   "cell_type": "code",
   "execution_count": 21,
   "metadata": {},
   "outputs": [],
   "source": [
    "#encode the INFERRED_MENOPAUSAL_STATE column\n",
    "ims_column = ['INFERRED_MENOPAUSAL_STATE']\n",
    "#Define the mapping of values for encoding\n",
    "ims_mapping = {\n",
    "    'Pre': 0,\n",
    "    'Post': 1\n",
    "}\n",
    "for column in ims_column:\n",
    "    breast_cancer_df[column] = breast_cancer_df[column].map(ims_mapping)"
   ]
  },
  {
   "cell_type": "markdown",
   "metadata": {},
   "source": [
    "After doing the encoding for categorical variables with binary values (two categories), we will observe the changes in our dataframe."
   ]
  },
  {
   "cell_type": "code",
   "execution_count": 22,
   "metadata": {},
   "outputs": [
    {
     "name": "stdout",
     "output_type": "stream",
     "text": [
      "(1307, 20)\n"
     ]
    },
    {
     "data": {
      "text/html": [
       "<div>\n",
       "<style scoped>\n",
       "    .dataframe tbody tr th:only-of-type {\n",
       "        vertical-align: middle;\n",
       "    }\n",
       "\n",
       "    .dataframe tbody tr th {\n",
       "        vertical-align: top;\n",
       "    }\n",
       "\n",
       "    .dataframe thead th {\n",
       "        text-align: right;\n",
       "    }\n",
       "</style>\n",
       "<table border=\"1\" class=\"dataframe\">\n",
       "  <thead>\n",
       "    <tr style=\"text-align: right;\">\n",
       "      <th></th>\n",
       "      <th>LYMPH_NODES_EXAMINED_POSITIVE</th>\n",
       "      <th>NPI</th>\n",
       "      <th>CELLULARITY</th>\n",
       "      <th>CHEMOTHERAPY</th>\n",
       "      <th>COHORT</th>\n",
       "      <th>ER_IHC</th>\n",
       "      <th>HER2_SNP6</th>\n",
       "      <th>HORMONE_THERAPY</th>\n",
       "      <th>INFERRED_MENOPAUSAL_STATE</th>\n",
       "      <th>AGE_AT_DIAGNOSIS</th>\n",
       "      <th>OS_MONTHS</th>\n",
       "      <th>OS_STATUS</th>\n",
       "      <th>CLAUDIN_SUBTYPE</th>\n",
       "      <th>VITAL_STATUS</th>\n",
       "      <th>LATERALITY</th>\n",
       "      <th>RADIO_THERAPY</th>\n",
       "      <th>HISTOLOGICAL_SUBTYPE</th>\n",
       "      <th>BREAST_SURGERY</th>\n",
       "      <th>RFS_STATUS</th>\n",
       "      <th>RFS_MONTHS</th>\n",
       "    </tr>\n",
       "  </thead>\n",
       "  <tbody>\n",
       "    <tr>\n",
       "      <th>1</th>\n",
       "      <td>0.0</td>\n",
       "      <td>4.020</td>\n",
       "      <td>High</td>\n",
       "      <td>0</td>\n",
       "      <td>1</td>\n",
       "      <td>1</td>\n",
       "      <td>NEUTRAL</td>\n",
       "      <td>1</td>\n",
       "      <td>0</td>\n",
       "      <td>43.19</td>\n",
       "      <td>84.633333</td>\n",
       "      <td>0</td>\n",
       "      <td>LumA</td>\n",
       "      <td>0</td>\n",
       "      <td>1</td>\n",
       "      <td>1</td>\n",
       "      <td>Ductal/NST</td>\n",
       "      <td>0</td>\n",
       "      <td>0</td>\n",
       "      <td>83.52</td>\n",
       "    </tr>\n",
       "    <tr>\n",
       "      <th>2</th>\n",
       "      <td>1.0</td>\n",
       "      <td>4.030</td>\n",
       "      <td>High</td>\n",
       "      <td>1</td>\n",
       "      <td>1</td>\n",
       "      <td>1</td>\n",
       "      <td>NEUTRAL</td>\n",
       "      <td>1</td>\n",
       "      <td>0</td>\n",
       "      <td>48.87</td>\n",
       "      <td>163.700000</td>\n",
       "      <td>1</td>\n",
       "      <td>LumB</td>\n",
       "      <td>1</td>\n",
       "      <td>1</td>\n",
       "      <td>0</td>\n",
       "      <td>Ductal/NST</td>\n",
       "      <td>1</td>\n",
       "      <td>1</td>\n",
       "      <td>151.28</td>\n",
       "    </tr>\n",
       "    <tr>\n",
       "      <th>3</th>\n",
       "      <td>3.0</td>\n",
       "      <td>4.050</td>\n",
       "      <td>Moderate</td>\n",
       "      <td>1</td>\n",
       "      <td>1</td>\n",
       "      <td>1</td>\n",
       "      <td>NEUTRAL</td>\n",
       "      <td>1</td>\n",
       "      <td>0</td>\n",
       "      <td>47.68</td>\n",
       "      <td>164.933333</td>\n",
       "      <td>0</td>\n",
       "      <td>LumB</td>\n",
       "      <td>0</td>\n",
       "      <td>1</td>\n",
       "      <td>1</td>\n",
       "      <td>Mixed</td>\n",
       "      <td>1</td>\n",
       "      <td>0</td>\n",
       "      <td>162.76</td>\n",
       "    </tr>\n",
       "    <tr>\n",
       "      <th>4</th>\n",
       "      <td>8.0</td>\n",
       "      <td>6.080</td>\n",
       "      <td>High</td>\n",
       "      <td>1</td>\n",
       "      <td>1</td>\n",
       "      <td>1</td>\n",
       "      <td>NEUTRAL</td>\n",
       "      <td>1</td>\n",
       "      <td>1</td>\n",
       "      <td>76.97</td>\n",
       "      <td>41.366667</td>\n",
       "      <td>1</td>\n",
       "      <td>LumB</td>\n",
       "      <td>1</td>\n",
       "      <td>1</td>\n",
       "      <td>1</td>\n",
       "      <td>Mixed</td>\n",
       "      <td>1</td>\n",
       "      <td>1</td>\n",
       "      <td>18.55</td>\n",
       "    </tr>\n",
       "    <tr>\n",
       "      <th>5</th>\n",
       "      <td>0.0</td>\n",
       "      <td>4.062</td>\n",
       "      <td>Moderate</td>\n",
       "      <td>0</td>\n",
       "      <td>1</td>\n",
       "      <td>1</td>\n",
       "      <td>NEUTRAL</td>\n",
       "      <td>1</td>\n",
       "      <td>1</td>\n",
       "      <td>78.77</td>\n",
       "      <td>7.800000</td>\n",
       "      <td>1</td>\n",
       "      <td>LumB</td>\n",
       "      <td>1</td>\n",
       "      <td>0</td>\n",
       "      <td>1</td>\n",
       "      <td>Ductal/NST</td>\n",
       "      <td>1</td>\n",
       "      <td>1</td>\n",
       "      <td>2.89</td>\n",
       "    </tr>\n",
       "    <tr>\n",
       "      <th>6</th>\n",
       "      <td>1.0</td>\n",
       "      <td>4.020</td>\n",
       "      <td>Moderate</td>\n",
       "      <td>1</td>\n",
       "      <td>1</td>\n",
       "      <td>1</td>\n",
       "      <td>LOSS</td>\n",
       "      <td>1</td>\n",
       "      <td>1</td>\n",
       "      <td>56.45</td>\n",
       "      <td>164.333333</td>\n",
       "      <td>0</td>\n",
       "      <td>LumB</td>\n",
       "      <td>0</td>\n",
       "      <td>1</td>\n",
       "      <td>1</td>\n",
       "      <td>Ductal/NST</td>\n",
       "      <td>0</td>\n",
       "      <td>0</td>\n",
       "      <td>162.17</td>\n",
       "    </tr>\n",
       "    <tr>\n",
       "      <th>7</th>\n",
       "      <td>0.0</td>\n",
       "      <td>6.130</td>\n",
       "      <td>High</td>\n",
       "      <td>1</td>\n",
       "      <td>1</td>\n",
       "      <td>0</td>\n",
       "      <td>NEUTRAL</td>\n",
       "      <td>0</td>\n",
       "      <td>1</td>\n",
       "      <td>70.00</td>\n",
       "      <td>22.400000</td>\n",
       "      <td>1</td>\n",
       "      <td>Normal</td>\n",
       "      <td>1</td>\n",
       "      <td>0</td>\n",
       "      <td>1</td>\n",
       "      <td>Lobular</td>\n",
       "      <td>1</td>\n",
       "      <td>1</td>\n",
       "      <td>11.74</td>\n",
       "    </tr>\n",
       "    <tr>\n",
       "      <th>11</th>\n",
       "      <td>0.0</td>\n",
       "      <td>3.056</td>\n",
       "      <td>High</td>\n",
       "      <td>0</td>\n",
       "      <td>1</td>\n",
       "      <td>0</td>\n",
       "      <td>LOSS</td>\n",
       "      <td>0</td>\n",
       "      <td>1</td>\n",
       "      <td>84.22</td>\n",
       "      <td>36.266667</td>\n",
       "      <td>1</td>\n",
       "      <td>Her2</td>\n",
       "      <td>1</td>\n",
       "      <td>0</td>\n",
       "      <td>0</td>\n",
       "      <td>Lobular</td>\n",
       "      <td>1</td>\n",
       "      <td>1</td>\n",
       "      <td>35.79</td>\n",
       "    </tr>\n",
       "    <tr>\n",
       "      <th>12</th>\n",
       "      <td>0.0</td>\n",
       "      <td>3.044</td>\n",
       "      <td>Moderate</td>\n",
       "      <td>0</td>\n",
       "      <td>1</td>\n",
       "      <td>1</td>\n",
       "      <td>NEUTRAL</td>\n",
       "      <td>1</td>\n",
       "      <td>1</td>\n",
       "      <td>85.49</td>\n",
       "      <td>132.033333</td>\n",
       "      <td>1</td>\n",
       "      <td>LumA</td>\n",
       "      <td>1</td>\n",
       "      <td>0</td>\n",
       "      <td>1</td>\n",
       "      <td>Ductal/NST</td>\n",
       "      <td>1</td>\n",
       "      <td>1</td>\n",
       "      <td>123.32</td>\n",
       "    </tr>\n",
       "    <tr>\n",
       "      <th>13</th>\n",
       "      <td>0.0</td>\n",
       "      <td>2.042</td>\n",
       "      <td>High</td>\n",
       "      <td>0</td>\n",
       "      <td>1</td>\n",
       "      <td>1</td>\n",
       "      <td>GAIN</td>\n",
       "      <td>1</td>\n",
       "      <td>1</td>\n",
       "      <td>70.91</td>\n",
       "      <td>163.533333</td>\n",
       "      <td>0</td>\n",
       "      <td>LumB</td>\n",
       "      <td>0</td>\n",
       "      <td>0</td>\n",
       "      <td>1</td>\n",
       "      <td>Ductal/NST</td>\n",
       "      <td>0</td>\n",
       "      <td>0</td>\n",
       "      <td>161.38</td>\n",
       "    </tr>\n",
       "  </tbody>\n",
       "</table>\n",
       "</div>"
      ],
      "text/plain": [
       "    LYMPH_NODES_EXAMINED_POSITIVE    NPI CELLULARITY  CHEMOTHERAPY  COHORT  \\\n",
       "1                             0.0  4.020        High             0       1   \n",
       "2                             1.0  4.030        High             1       1   \n",
       "3                             3.0  4.050    Moderate             1       1   \n",
       "4                             8.0  6.080        High             1       1   \n",
       "5                             0.0  4.062    Moderate             0       1   \n",
       "6                             1.0  4.020    Moderate             1       1   \n",
       "7                             0.0  6.130        High             1       1   \n",
       "11                            0.0  3.056        High             0       1   \n",
       "12                            0.0  3.044    Moderate             0       1   \n",
       "13                            0.0  2.042        High             0       1   \n",
       "\n",
       "    ER_IHC HER2_SNP6  HORMONE_THERAPY  INFERRED_MENOPAUSAL_STATE  \\\n",
       "1        1   NEUTRAL                1                          0   \n",
       "2        1   NEUTRAL                1                          0   \n",
       "3        1   NEUTRAL                1                          0   \n",
       "4        1   NEUTRAL                1                          1   \n",
       "5        1   NEUTRAL                1                          1   \n",
       "6        1      LOSS                1                          1   \n",
       "7        0   NEUTRAL                0                          1   \n",
       "11       0      LOSS                0                          1   \n",
       "12       1   NEUTRAL                1                          1   \n",
       "13       1      GAIN                1                          1   \n",
       "\n",
       "    AGE_AT_DIAGNOSIS   OS_MONTHS  OS_STATUS CLAUDIN_SUBTYPE  VITAL_STATUS  \\\n",
       "1              43.19   84.633333          0            LumA             0   \n",
       "2              48.87  163.700000          1            LumB             1   \n",
       "3              47.68  164.933333          0            LumB             0   \n",
       "4              76.97   41.366667          1            LumB             1   \n",
       "5              78.77    7.800000          1            LumB             1   \n",
       "6              56.45  164.333333          0            LumB             0   \n",
       "7              70.00   22.400000          1          Normal             1   \n",
       "11             84.22   36.266667          1            Her2             1   \n",
       "12             85.49  132.033333          1            LumA             1   \n",
       "13             70.91  163.533333          0            LumB             0   \n",
       "\n",
       "    LATERALITY  RADIO_THERAPY HISTOLOGICAL_SUBTYPE  BREAST_SURGERY  \\\n",
       "1            1              1           Ductal/NST               0   \n",
       "2            1              0           Ductal/NST               1   \n",
       "3            1              1                Mixed               1   \n",
       "4            1              1                Mixed               1   \n",
       "5            0              1           Ductal/NST               1   \n",
       "6            1              1           Ductal/NST               0   \n",
       "7            0              1              Lobular               1   \n",
       "11           0              0              Lobular               1   \n",
       "12           0              1           Ductal/NST               1   \n",
       "13           0              1           Ductal/NST               0   \n",
       "\n",
       "    RFS_STATUS  RFS_MONTHS  \n",
       "1            0       83.52  \n",
       "2            1      151.28  \n",
       "3            0      162.76  \n",
       "4            1       18.55  \n",
       "5            1        2.89  \n",
       "6            0      162.17  \n",
       "7            1       11.74  \n",
       "11           1       35.79  \n",
       "12           1      123.32  \n",
       "13           0      161.38  "
      ]
     },
     "execution_count": 22,
     "metadata": {},
     "output_type": "execute_result"
    }
   ],
   "source": [
    "#Display the shape and the first ten rows of the dataframe\n",
    "print(breast_cancer_df.shape)\n",
    "breast_cancer_df.head(10)"
   ]
  },
  {
   "cell_type": "markdown",
   "metadata": {},
   "source": [
    "Note: Due to the wide format of the DataFrame with 20 columns, the output is truncated. The displayed rows and columns offer a glimpse of the data.\n"
   ]
  },
  {
   "cell_type": "markdown",
   "metadata": {},
   "source": [
    "**DATA ENCODING - MULTI-CATEGORY VARIABLES**"
   ]
  },
  {
   "cell_type": "markdown",
   "metadata": {},
   "source": [
    "Following the encoding of columns with two categorical values, the next step involves encoding columns with multiple categories. These specific columns include 'CELLULARITY,' 'HER2_SNP6,' 'CLAUDIN_SUBTYPE,' and 'HISTOLOGICAL_SUBTYPE,' each of which offers more than two distinct values. Therefore, we will proceed with encoding these categorical data variables, ensuring that the dataset is appropriately prepared for further analysis."
   ]
  },
  {
   "cell_type": "markdown",
   "metadata": {},
   "source": [
    "CELLURARITY: Low = 0, Moderate = 1, High = 2"
   ]
  },
  {
   "cell_type": "code",
   "execution_count": 23,
   "metadata": {},
   "outputs": [],
   "source": [
    "#encode the CELLULARITY column\n",
    "cell_column = ['CELLULARITY']\n",
    "#Define the mapping of values for encoding\n",
    "cell_mapping = {\n",
    "    'Low': 0,\n",
    "    'Moderate': 1,\n",
    "    'High': 2\n",
    "}\n",
    "for column in cell_column:\n",
    "    breast_cancer_df[column] = breast_cancer_df[column].map(cell_mapping)"
   ]
  },
  {
   "cell_type": "markdown",
   "metadata": {},
   "source": [
    "HER2_SNP6: LOSS = 0, NEUTRAL = 1, GAIN = 2, UNDEF = 3"
   ]
  },
  {
   "cell_type": "code",
   "execution_count": 24,
   "metadata": {},
   "outputs": [],
   "source": [
    "#encode the HER2_SNP6 column\n",
    "her_column = ['HER2_SNP6']\n",
    "#Define the mapping of values for encoding\n",
    "her_mapping = {\n",
    "    'LOSS': 0,\n",
    "    'NEUTRAL': 1,\n",
    "    'GAIN': 2,\n",
    "    'UNDEF': 3\n",
    "}\n",
    "for column in her_column:\n",
    "    breast_cancer_df[column] = breast_cancer_df[column].map(her_mapping)"
   ]
  },
  {
   "cell_type": "markdown",
   "metadata": {},
   "source": [
    "CLAUDIN_SUBTYPE : Basal = 0, claudin-low = 1, Her2 = 2, LumA = 3, LumB = 4, NC = 5, Normal = 6"
   ]
  },
  {
   "cell_type": "code",
   "execution_count": 25,
   "metadata": {},
   "outputs": [],
   "source": [
    "#encode the CLAUDIN_SUBTYPE column\n",
    "claud_column = ['CLAUDIN_SUBTYPE']\n",
    "#Define the mapping of values for encoding\n",
    "claud_mapping = {'Basal': 0,\n",
    "                'claudin-low': 1,\n",
    "                'Her2': 2, \n",
    "                'LumA': 3, \n",
    "                'LumB': 4, \n",
    "                'NC': 5, \n",
    "                'Normal': 6}\n",
    "for column in claud_column:\n",
    "    breast_cancer_df[column] = breast_cancer_df[column].map(claud_mapping)"
   ]
  },
  {
   "cell_type": "markdown",
   "metadata": {},
   "source": [
    "HISTOLOGICAL_SUBTYPE: 'Ductal/NST': 0, 'Mixed': 1, 'Lobular': 2, 'Tubular/ cribriform': 3, 'Medullary': 4, 'Metaplastic': 5, 'Mucinous': 6, 'Other': 7"
   ]
  },
  {
   "cell_type": "code",
   "execution_count": 26,
   "metadata": {},
   "outputs": [],
   "source": [
    "#encode the HISTOLOGICAL_SUBTYPE column\n",
    "his_column = ['HISTOLOGICAL_SUBTYPE']\n",
    "#Define the mapping of values for encoding\n",
    "his_mapping = {'Ductal/NST': 0, \n",
    "               'Mixed': 1, \n",
    "               'Lobular': 2, \n",
    "               'Tubular/ cribriform': 3, \n",
    "               'Medullary': 4, \n",
    "               'Metaplastic': 5, \n",
    "               'Mucinous': 6, \n",
    "               'Other': 7}\n",
    "for column in his_column:\n",
    "    breast_cancer_df[column] = breast_cancer_df[column].map(his_mapping)"
   ]
  },
  {
   "cell_type": "markdown",
   "metadata": {},
   "source": [
    "After doing the encoding for categorical variables mentioned above, we observe the changes in our dataframe."
   ]
  },
  {
   "cell_type": "code",
   "execution_count": 27,
   "metadata": {},
   "outputs": [
    {
     "name": "stdout",
     "output_type": "stream",
     "text": [
      "(1307, 20)\n"
     ]
    },
    {
     "data": {
      "text/html": [
       "<div>\n",
       "<style scoped>\n",
       "    .dataframe tbody tr th:only-of-type {\n",
       "        vertical-align: middle;\n",
       "    }\n",
       "\n",
       "    .dataframe tbody tr th {\n",
       "        vertical-align: top;\n",
       "    }\n",
       "\n",
       "    .dataframe thead th {\n",
       "        text-align: right;\n",
       "    }\n",
       "</style>\n",
       "<table border=\"1\" class=\"dataframe\">\n",
       "  <thead>\n",
       "    <tr style=\"text-align: right;\">\n",
       "      <th></th>\n",
       "      <th>LYMPH_NODES_EXAMINED_POSITIVE</th>\n",
       "      <th>NPI</th>\n",
       "      <th>CELLULARITY</th>\n",
       "      <th>CHEMOTHERAPY</th>\n",
       "      <th>COHORT</th>\n",
       "      <th>ER_IHC</th>\n",
       "      <th>HER2_SNP6</th>\n",
       "      <th>HORMONE_THERAPY</th>\n",
       "      <th>INFERRED_MENOPAUSAL_STATE</th>\n",
       "      <th>AGE_AT_DIAGNOSIS</th>\n",
       "      <th>OS_MONTHS</th>\n",
       "      <th>OS_STATUS</th>\n",
       "      <th>CLAUDIN_SUBTYPE</th>\n",
       "      <th>VITAL_STATUS</th>\n",
       "      <th>LATERALITY</th>\n",
       "      <th>RADIO_THERAPY</th>\n",
       "      <th>HISTOLOGICAL_SUBTYPE</th>\n",
       "      <th>BREAST_SURGERY</th>\n",
       "      <th>RFS_STATUS</th>\n",
       "      <th>RFS_MONTHS</th>\n",
       "    </tr>\n",
       "  </thead>\n",
       "  <tbody>\n",
       "    <tr>\n",
       "      <th>1</th>\n",
       "      <td>0.0</td>\n",
       "      <td>4.020</td>\n",
       "      <td>2</td>\n",
       "      <td>0</td>\n",
       "      <td>1</td>\n",
       "      <td>1</td>\n",
       "      <td>1</td>\n",
       "      <td>1</td>\n",
       "      <td>0</td>\n",
       "      <td>43.19</td>\n",
       "      <td>84.633333</td>\n",
       "      <td>0</td>\n",
       "      <td>3</td>\n",
       "      <td>0</td>\n",
       "      <td>1</td>\n",
       "      <td>1</td>\n",
       "      <td>0</td>\n",
       "      <td>0</td>\n",
       "      <td>0</td>\n",
       "      <td>83.52</td>\n",
       "    </tr>\n",
       "    <tr>\n",
       "      <th>2</th>\n",
       "      <td>1.0</td>\n",
       "      <td>4.030</td>\n",
       "      <td>2</td>\n",
       "      <td>1</td>\n",
       "      <td>1</td>\n",
       "      <td>1</td>\n",
       "      <td>1</td>\n",
       "      <td>1</td>\n",
       "      <td>0</td>\n",
       "      <td>48.87</td>\n",
       "      <td>163.700000</td>\n",
       "      <td>1</td>\n",
       "      <td>4</td>\n",
       "      <td>1</td>\n",
       "      <td>1</td>\n",
       "      <td>0</td>\n",
       "      <td>0</td>\n",
       "      <td>1</td>\n",
       "      <td>1</td>\n",
       "      <td>151.28</td>\n",
       "    </tr>\n",
       "    <tr>\n",
       "      <th>3</th>\n",
       "      <td>3.0</td>\n",
       "      <td>4.050</td>\n",
       "      <td>1</td>\n",
       "      <td>1</td>\n",
       "      <td>1</td>\n",
       "      <td>1</td>\n",
       "      <td>1</td>\n",
       "      <td>1</td>\n",
       "      <td>0</td>\n",
       "      <td>47.68</td>\n",
       "      <td>164.933333</td>\n",
       "      <td>0</td>\n",
       "      <td>4</td>\n",
       "      <td>0</td>\n",
       "      <td>1</td>\n",
       "      <td>1</td>\n",
       "      <td>1</td>\n",
       "      <td>1</td>\n",
       "      <td>0</td>\n",
       "      <td>162.76</td>\n",
       "    </tr>\n",
       "    <tr>\n",
       "      <th>4</th>\n",
       "      <td>8.0</td>\n",
       "      <td>6.080</td>\n",
       "      <td>2</td>\n",
       "      <td>1</td>\n",
       "      <td>1</td>\n",
       "      <td>1</td>\n",
       "      <td>1</td>\n",
       "      <td>1</td>\n",
       "      <td>1</td>\n",
       "      <td>76.97</td>\n",
       "      <td>41.366667</td>\n",
       "      <td>1</td>\n",
       "      <td>4</td>\n",
       "      <td>1</td>\n",
       "      <td>1</td>\n",
       "      <td>1</td>\n",
       "      <td>1</td>\n",
       "      <td>1</td>\n",
       "      <td>1</td>\n",
       "      <td>18.55</td>\n",
       "    </tr>\n",
       "    <tr>\n",
       "      <th>5</th>\n",
       "      <td>0.0</td>\n",
       "      <td>4.062</td>\n",
       "      <td>1</td>\n",
       "      <td>0</td>\n",
       "      <td>1</td>\n",
       "      <td>1</td>\n",
       "      <td>1</td>\n",
       "      <td>1</td>\n",
       "      <td>1</td>\n",
       "      <td>78.77</td>\n",
       "      <td>7.800000</td>\n",
       "      <td>1</td>\n",
       "      <td>4</td>\n",
       "      <td>1</td>\n",
       "      <td>0</td>\n",
       "      <td>1</td>\n",
       "      <td>0</td>\n",
       "      <td>1</td>\n",
       "      <td>1</td>\n",
       "      <td>2.89</td>\n",
       "    </tr>\n",
       "    <tr>\n",
       "      <th>6</th>\n",
       "      <td>1.0</td>\n",
       "      <td>4.020</td>\n",
       "      <td>1</td>\n",
       "      <td>1</td>\n",
       "      <td>1</td>\n",
       "      <td>1</td>\n",
       "      <td>0</td>\n",
       "      <td>1</td>\n",
       "      <td>1</td>\n",
       "      <td>56.45</td>\n",
       "      <td>164.333333</td>\n",
       "      <td>0</td>\n",
       "      <td>4</td>\n",
       "      <td>0</td>\n",
       "      <td>1</td>\n",
       "      <td>1</td>\n",
       "      <td>0</td>\n",
       "      <td>0</td>\n",
       "      <td>0</td>\n",
       "      <td>162.17</td>\n",
       "    </tr>\n",
       "    <tr>\n",
       "      <th>7</th>\n",
       "      <td>0.0</td>\n",
       "      <td>6.130</td>\n",
       "      <td>2</td>\n",
       "      <td>1</td>\n",
       "      <td>1</td>\n",
       "      <td>0</td>\n",
       "      <td>1</td>\n",
       "      <td>0</td>\n",
       "      <td>1</td>\n",
       "      <td>70.00</td>\n",
       "      <td>22.400000</td>\n",
       "      <td>1</td>\n",
       "      <td>6</td>\n",
       "      <td>1</td>\n",
       "      <td>0</td>\n",
       "      <td>1</td>\n",
       "      <td>2</td>\n",
       "      <td>1</td>\n",
       "      <td>1</td>\n",
       "      <td>11.74</td>\n",
       "    </tr>\n",
       "    <tr>\n",
       "      <th>11</th>\n",
       "      <td>0.0</td>\n",
       "      <td>3.056</td>\n",
       "      <td>2</td>\n",
       "      <td>0</td>\n",
       "      <td>1</td>\n",
       "      <td>0</td>\n",
       "      <td>0</td>\n",
       "      <td>0</td>\n",
       "      <td>1</td>\n",
       "      <td>84.22</td>\n",
       "      <td>36.266667</td>\n",
       "      <td>1</td>\n",
       "      <td>2</td>\n",
       "      <td>1</td>\n",
       "      <td>0</td>\n",
       "      <td>0</td>\n",
       "      <td>2</td>\n",
       "      <td>1</td>\n",
       "      <td>1</td>\n",
       "      <td>35.79</td>\n",
       "    </tr>\n",
       "    <tr>\n",
       "      <th>12</th>\n",
       "      <td>0.0</td>\n",
       "      <td>3.044</td>\n",
       "      <td>1</td>\n",
       "      <td>0</td>\n",
       "      <td>1</td>\n",
       "      <td>1</td>\n",
       "      <td>1</td>\n",
       "      <td>1</td>\n",
       "      <td>1</td>\n",
       "      <td>85.49</td>\n",
       "      <td>132.033333</td>\n",
       "      <td>1</td>\n",
       "      <td>3</td>\n",
       "      <td>1</td>\n",
       "      <td>0</td>\n",
       "      <td>1</td>\n",
       "      <td>0</td>\n",
       "      <td>1</td>\n",
       "      <td>1</td>\n",
       "      <td>123.32</td>\n",
       "    </tr>\n",
       "    <tr>\n",
       "      <th>13</th>\n",
       "      <td>0.0</td>\n",
       "      <td>2.042</td>\n",
       "      <td>2</td>\n",
       "      <td>0</td>\n",
       "      <td>1</td>\n",
       "      <td>1</td>\n",
       "      <td>2</td>\n",
       "      <td>1</td>\n",
       "      <td>1</td>\n",
       "      <td>70.91</td>\n",
       "      <td>163.533333</td>\n",
       "      <td>0</td>\n",
       "      <td>4</td>\n",
       "      <td>0</td>\n",
       "      <td>0</td>\n",
       "      <td>1</td>\n",
       "      <td>0</td>\n",
       "      <td>0</td>\n",
       "      <td>0</td>\n",
       "      <td>161.38</td>\n",
       "    </tr>\n",
       "  </tbody>\n",
       "</table>\n",
       "</div>"
      ],
      "text/plain": [
       "    LYMPH_NODES_EXAMINED_POSITIVE    NPI  CELLULARITY  CHEMOTHERAPY  COHORT  \\\n",
       "1                             0.0  4.020            2             0       1   \n",
       "2                             1.0  4.030            2             1       1   \n",
       "3                             3.0  4.050            1             1       1   \n",
       "4                             8.0  6.080            2             1       1   \n",
       "5                             0.0  4.062            1             0       1   \n",
       "6                             1.0  4.020            1             1       1   \n",
       "7                             0.0  6.130            2             1       1   \n",
       "11                            0.0  3.056            2             0       1   \n",
       "12                            0.0  3.044            1             0       1   \n",
       "13                            0.0  2.042            2             0       1   \n",
       "\n",
       "    ER_IHC  HER2_SNP6  HORMONE_THERAPY  INFERRED_MENOPAUSAL_STATE  \\\n",
       "1        1          1                1                          0   \n",
       "2        1          1                1                          0   \n",
       "3        1          1                1                          0   \n",
       "4        1          1                1                          1   \n",
       "5        1          1                1                          1   \n",
       "6        1          0                1                          1   \n",
       "7        0          1                0                          1   \n",
       "11       0          0                0                          1   \n",
       "12       1          1                1                          1   \n",
       "13       1          2                1                          1   \n",
       "\n",
       "    AGE_AT_DIAGNOSIS   OS_MONTHS  OS_STATUS  CLAUDIN_SUBTYPE  VITAL_STATUS  \\\n",
       "1              43.19   84.633333          0                3             0   \n",
       "2              48.87  163.700000          1                4             1   \n",
       "3              47.68  164.933333          0                4             0   \n",
       "4              76.97   41.366667          1                4             1   \n",
       "5              78.77    7.800000          1                4             1   \n",
       "6              56.45  164.333333          0                4             0   \n",
       "7              70.00   22.400000          1                6             1   \n",
       "11             84.22   36.266667          1                2             1   \n",
       "12             85.49  132.033333          1                3             1   \n",
       "13             70.91  163.533333          0                4             0   \n",
       "\n",
       "    LATERALITY  RADIO_THERAPY  HISTOLOGICAL_SUBTYPE  BREAST_SURGERY  \\\n",
       "1            1              1                     0               0   \n",
       "2            1              0                     0               1   \n",
       "3            1              1                     1               1   \n",
       "4            1              1                     1               1   \n",
       "5            0              1                     0               1   \n",
       "6            1              1                     0               0   \n",
       "7            0              1                     2               1   \n",
       "11           0              0                     2               1   \n",
       "12           0              1                     0               1   \n",
       "13           0              1                     0               0   \n",
       "\n",
       "    RFS_STATUS  RFS_MONTHS  \n",
       "1            0       83.52  \n",
       "2            1      151.28  \n",
       "3            0      162.76  \n",
       "4            1       18.55  \n",
       "5            1        2.89  \n",
       "6            0      162.17  \n",
       "7            1       11.74  \n",
       "11           1       35.79  \n",
       "12           1      123.32  \n",
       "13           0      161.38  "
      ]
     },
     "execution_count": 27,
     "metadata": {},
     "output_type": "execute_result"
    }
   ],
   "source": [
    "#Display the shape and the first ten rows of the dataframe\n",
    "print(breast_cancer_df.shape)\n",
    "breast_cancer_df.head(10)"
   ]
  },
  {
   "cell_type": "markdown",
   "metadata": {},
   "source": [
    "Note: Due to the wide format of the DataFrame with 20 columns, the output is truncated. The displayed rows and columns offer a glimpse of the data.\n"
   ]
  },
  {
   "cell_type": "markdown",
   "metadata": {},
   "source": [
    "### Data Normalization"
   ]
  },
  {
   "cell_type": "markdown",
   "metadata": {},
   "source": [
    "We have selected 'VITAL_STATUS' as our target variable (Y), which represents the outcome we aim to predict. To prepare the dataset for modeling, we will separate the Y variable from the independent features."
   ]
  },
  {
   "cell_type": "code",
   "execution_count": 28,
   "metadata": {},
   "outputs": [],
   "source": [
    "#Create new dataframe that does not contain dependent variable VITAL_STATUS\n",
    "Y = breast_cancer_df['VITAL_STATUS']\n",
    "X = breast_cancer_df.drop(columns=['VITAL_STATUS'])"
   ]
  },
  {
   "cell_type": "markdown",
   "metadata": {},
   "source": [
    "Afterward, we'll perform feature scaling to normalize the numeric features in X that exhibit varying scales. This code first separates the Y and X variables and then applies Min-Max scaling to the specified numeric features in X, ensuring that they have a consistent scale for modeling."
   ]
  },
  {
   "cell_type": "code",
   "execution_count": 29,
   "metadata": {},
   "outputs": [
    {
     "name": "stderr",
     "output_type": "stream",
     "text": [
      "/Users/katherinegao888/anaconda3/envs/info2950/lib/python3.11/site-packages/sklearn/utils/validation.py:767: FutureWarning: is_sparse is deprecated and will be removed in a future version. Check `isinstance(dtype, pd.SparseDtype)` instead.\n",
      "  if not hasattr(array, \"sparse\") and array.dtypes.apply(is_sparse).any():\n",
      "/Users/katherinegao888/anaconda3/envs/info2950/lib/python3.11/site-packages/sklearn/utils/validation.py:605: FutureWarning: is_sparse is deprecated and will be removed in a future version. Check `isinstance(dtype, pd.SparseDtype)` instead.\n",
      "  if is_sparse(pd_dtype):\n",
      "/Users/katherinegao888/anaconda3/envs/info2950/lib/python3.11/site-packages/sklearn/utils/validation.py:614: FutureWarning: is_sparse is deprecated and will be removed in a future version. Check `isinstance(dtype, pd.SparseDtype)` instead.\n",
      "  if is_sparse(pd_dtype) or not is_extension_array_dtype(pd_dtype):\n",
      "/Users/katherinegao888/anaconda3/envs/info2950/lib/python3.11/site-packages/sklearn/utils/validation.py:767: FutureWarning: is_sparse is deprecated and will be removed in a future version. Check `isinstance(dtype, pd.SparseDtype)` instead.\n",
      "  if not hasattr(array, \"sparse\") and array.dtypes.apply(is_sparse).any():\n",
      "/Users/katherinegao888/anaconda3/envs/info2950/lib/python3.11/site-packages/sklearn/utils/validation.py:605: FutureWarning: is_sparse is deprecated and will be removed in a future version. Check `isinstance(dtype, pd.SparseDtype)` instead.\n",
      "  if is_sparse(pd_dtype):\n",
      "/Users/katherinegao888/anaconda3/envs/info2950/lib/python3.11/site-packages/sklearn/utils/validation.py:614: FutureWarning: is_sparse is deprecated and will be removed in a future version. Check `isinstance(dtype, pd.SparseDtype)` instead.\n",
      "  if is_sparse(pd_dtype) or not is_extension_array_dtype(pd_dtype):\n"
     ]
    }
   ],
   "source": [
    "#Select the columns in breast_cancer to do normalization\n",
    "columns_to_normalize = ['LYMPH_NODES_EXAMINED_POSITIVE', 'NPI', \n",
    "                        'OS_MONTHS', 'RFS_MONTHS', 'AGE_AT_DIAGNOSIS']\n",
    "#Initialize the MinMaxScaler\n",
    "scaler = MinMaxScaler()\n",
    "#Fit the transformation\n",
    "X[columns_to_normalize] = scaler.fit_transform(X[columns_to_normalize])"
   ]
  },
  {
   "cell_type": "markdown",
   "metadata": {},
   "source": [
    "After doing the normalization for numerical variables mentioned above, we observe the changes in our dataframe."
   ]
  },
  {
   "cell_type": "code",
   "execution_count": 30,
   "metadata": {},
   "outputs": [
    {
     "name": "stdout",
     "output_type": "stream",
     "text": [
      "(1307, 19)\n"
     ]
    },
    {
     "data": {
      "text/html": [
       "<div>\n",
       "<style scoped>\n",
       "    .dataframe tbody tr th:only-of-type {\n",
       "        vertical-align: middle;\n",
       "    }\n",
       "\n",
       "    .dataframe tbody tr th {\n",
       "        vertical-align: top;\n",
       "    }\n",
       "\n",
       "    .dataframe thead th {\n",
       "        text-align: right;\n",
       "    }\n",
       "</style>\n",
       "<table border=\"1\" class=\"dataframe\">\n",
       "  <thead>\n",
       "    <tr style=\"text-align: right;\">\n",
       "      <th></th>\n",
       "      <th>LYMPH_NODES_EXAMINED_POSITIVE</th>\n",
       "      <th>NPI</th>\n",
       "      <th>CELLULARITY</th>\n",
       "      <th>CHEMOTHERAPY</th>\n",
       "      <th>COHORT</th>\n",
       "      <th>ER_IHC</th>\n",
       "      <th>HER2_SNP6</th>\n",
       "      <th>HORMONE_THERAPY</th>\n",
       "      <th>INFERRED_MENOPAUSAL_STATE</th>\n",
       "      <th>AGE_AT_DIAGNOSIS</th>\n",
       "      <th>OS_MONTHS</th>\n",
       "      <th>OS_STATUS</th>\n",
       "      <th>CLAUDIN_SUBTYPE</th>\n",
       "      <th>LATERALITY</th>\n",
       "      <th>RADIO_THERAPY</th>\n",
       "      <th>HISTOLOGICAL_SUBTYPE</th>\n",
       "      <th>BREAST_SURGERY</th>\n",
       "      <th>RFS_STATUS</th>\n",
       "      <th>RFS_MONTHS</th>\n",
       "    </tr>\n",
       "  </thead>\n",
       "  <tbody>\n",
       "    <tr>\n",
       "      <th>1</th>\n",
       "      <td>0.000000</td>\n",
       "      <td>0.561798</td>\n",
       "      <td>2</td>\n",
       "      <td>0</td>\n",
       "      <td>1</td>\n",
       "      <td>1</td>\n",
       "      <td>1</td>\n",
       "      <td>1</td>\n",
       "      <td>0</td>\n",
       "      <td>0.285906</td>\n",
       "      <td>0.250890</td>\n",
       "      <td>0</td>\n",
       "      <td>3</td>\n",
       "      <td>1</td>\n",
       "      <td>1</td>\n",
       "      <td>0</td>\n",
       "      <td>0</td>\n",
       "      <td>0</td>\n",
       "      <td>0.256181</td>\n",
       "    </tr>\n",
       "    <tr>\n",
       "      <th>2</th>\n",
       "      <td>0.022222</td>\n",
       "      <td>0.563670</td>\n",
       "      <td>2</td>\n",
       "      <td>1</td>\n",
       "      <td>1</td>\n",
       "      <td>1</td>\n",
       "      <td>1</td>\n",
       "      <td>1</td>\n",
       "      <td>0</td>\n",
       "      <td>0.362292</td>\n",
       "      <td>0.485556</td>\n",
       "      <td>1</td>\n",
       "      <td>4</td>\n",
       "      <td>1</td>\n",
       "      <td>0</td>\n",
       "      <td>0</td>\n",
       "      <td>1</td>\n",
       "      <td>1</td>\n",
       "      <td>0.464021</td>\n",
       "    </tr>\n",
       "    <tr>\n",
       "      <th>3</th>\n",
       "      <td>0.066667</td>\n",
       "      <td>0.567416</td>\n",
       "      <td>1</td>\n",
       "      <td>1</td>\n",
       "      <td>1</td>\n",
       "      <td>1</td>\n",
       "      <td>1</td>\n",
       "      <td>1</td>\n",
       "      <td>0</td>\n",
       "      <td>0.346288</td>\n",
       "      <td>0.489216</td>\n",
       "      <td>0</td>\n",
       "      <td>4</td>\n",
       "      <td>1</td>\n",
       "      <td>1</td>\n",
       "      <td>1</td>\n",
       "      <td>1</td>\n",
       "      <td>0</td>\n",
       "      <td>0.499233</td>\n",
       "    </tr>\n",
       "    <tr>\n",
       "      <th>4</th>\n",
       "      <td>0.177778</td>\n",
       "      <td>0.947566</td>\n",
       "      <td>2</td>\n",
       "      <td>1</td>\n",
       "      <td>1</td>\n",
       "      <td>1</td>\n",
       "      <td>1</td>\n",
       "      <td>1</td>\n",
       "      <td>1</td>\n",
       "      <td>0.740183</td>\n",
       "      <td>0.122477</td>\n",
       "      <td>1</td>\n",
       "      <td>4</td>\n",
       "      <td>1</td>\n",
       "      <td>1</td>\n",
       "      <td>1</td>\n",
       "      <td>1</td>\n",
       "      <td>1</td>\n",
       "      <td>0.056898</td>\n",
       "    </tr>\n",
       "    <tr>\n",
       "      <th>5</th>\n",
       "      <td>0.000000</td>\n",
       "      <td>0.569663</td>\n",
       "      <td>1</td>\n",
       "      <td>0</td>\n",
       "      <td>1</td>\n",
       "      <td>1</td>\n",
       "      <td>1</td>\n",
       "      <td>1</td>\n",
       "      <td>1</td>\n",
       "      <td>0.764389</td>\n",
       "      <td>0.022853</td>\n",
       "      <td>1</td>\n",
       "      <td>4</td>\n",
       "      <td>0</td>\n",
       "      <td>1</td>\n",
       "      <td>0</td>\n",
       "      <td>1</td>\n",
       "      <td>1</td>\n",
       "      <td>0.008864</td>\n",
       "    </tr>\n",
       "    <tr>\n",
       "      <th>6</th>\n",
       "      <td>0.022222</td>\n",
       "      <td>0.561798</td>\n",
       "      <td>1</td>\n",
       "      <td>1</td>\n",
       "      <td>1</td>\n",
       "      <td>1</td>\n",
       "      <td>0</td>\n",
       "      <td>1</td>\n",
       "      <td>1</td>\n",
       "      <td>0.464228</td>\n",
       "      <td>0.487436</td>\n",
       "      <td>0</td>\n",
       "      <td>4</td>\n",
       "      <td>1</td>\n",
       "      <td>1</td>\n",
       "      <td>0</td>\n",
       "      <td>0</td>\n",
       "      <td>0</td>\n",
       "      <td>0.497423</td>\n",
       "    </tr>\n",
       "    <tr>\n",
       "      <th>7</th>\n",
       "      <td>0.000000</td>\n",
       "      <td>0.956929</td>\n",
       "      <td>2</td>\n",
       "      <td>1</td>\n",
       "      <td>1</td>\n",
       "      <td>0</td>\n",
       "      <td>1</td>\n",
       "      <td>0</td>\n",
       "      <td>1</td>\n",
       "      <td>0.646450</td>\n",
       "      <td>0.066185</td>\n",
       "      <td>1</td>\n",
       "      <td>6</td>\n",
       "      <td>0</td>\n",
       "      <td>1</td>\n",
       "      <td>2</td>\n",
       "      <td>1</td>\n",
       "      <td>1</td>\n",
       "      <td>0.036010</td>\n",
       "    </tr>\n",
       "    <tr>\n",
       "      <th>11</th>\n",
       "      <td>0.000000</td>\n",
       "      <td>0.381273</td>\n",
       "      <td>2</td>\n",
       "      <td>0</td>\n",
       "      <td>1</td>\n",
       "      <td>0</td>\n",
       "      <td>0</td>\n",
       "      <td>0</td>\n",
       "      <td>1</td>\n",
       "      <td>0.837682</td>\n",
       "      <td>0.107341</td>\n",
       "      <td>1</td>\n",
       "      <td>2</td>\n",
       "      <td>0</td>\n",
       "      <td>0</td>\n",
       "      <td>2</td>\n",
       "      <td>1</td>\n",
       "      <td>1</td>\n",
       "      <td>0.109779</td>\n",
       "    </tr>\n",
       "    <tr>\n",
       "      <th>12</th>\n",
       "      <td>0.000000</td>\n",
       "      <td>0.379026</td>\n",
       "      <td>1</td>\n",
       "      <td>0</td>\n",
       "      <td>1</td>\n",
       "      <td>1</td>\n",
       "      <td>1</td>\n",
       "      <td>1</td>\n",
       "      <td>1</td>\n",
       "      <td>0.854761</td>\n",
       "      <td>0.391571</td>\n",
       "      <td>1</td>\n",
       "      <td>3</td>\n",
       "      <td>0</td>\n",
       "      <td>1</td>\n",
       "      <td>0</td>\n",
       "      <td>1</td>\n",
       "      <td>1</td>\n",
       "      <td>0.378259</td>\n",
       "    </tr>\n",
       "    <tr>\n",
       "      <th>13</th>\n",
       "      <td>0.000000</td>\n",
       "      <td>0.191386</td>\n",
       "      <td>2</td>\n",
       "      <td>0</td>\n",
       "      <td>1</td>\n",
       "      <td>1</td>\n",
       "      <td>2</td>\n",
       "      <td>1</td>\n",
       "      <td>1</td>\n",
       "      <td>0.658687</td>\n",
       "      <td>0.485061</td>\n",
       "      <td>0</td>\n",
       "      <td>4</td>\n",
       "      <td>0</td>\n",
       "      <td>1</td>\n",
       "      <td>0</td>\n",
       "      <td>0</td>\n",
       "      <td>0</td>\n",
       "      <td>0.495000</td>\n",
       "    </tr>\n",
       "  </tbody>\n",
       "</table>\n",
       "</div>"
      ],
      "text/plain": [
       "    LYMPH_NODES_EXAMINED_POSITIVE       NPI  CELLULARITY  CHEMOTHERAPY  \\\n",
       "1                        0.000000  0.561798            2             0   \n",
       "2                        0.022222  0.563670            2             1   \n",
       "3                        0.066667  0.567416            1             1   \n",
       "4                        0.177778  0.947566            2             1   \n",
       "5                        0.000000  0.569663            1             0   \n",
       "6                        0.022222  0.561798            1             1   \n",
       "7                        0.000000  0.956929            2             1   \n",
       "11                       0.000000  0.381273            2             0   \n",
       "12                       0.000000  0.379026            1             0   \n",
       "13                       0.000000  0.191386            2             0   \n",
       "\n",
       "    COHORT  ER_IHC  HER2_SNP6  HORMONE_THERAPY  INFERRED_MENOPAUSAL_STATE  \\\n",
       "1        1       1          1                1                          0   \n",
       "2        1       1          1                1                          0   \n",
       "3        1       1          1                1                          0   \n",
       "4        1       1          1                1                          1   \n",
       "5        1       1          1                1                          1   \n",
       "6        1       1          0                1                          1   \n",
       "7        1       0          1                0                          1   \n",
       "11       1       0          0                0                          1   \n",
       "12       1       1          1                1                          1   \n",
       "13       1       1          2                1                          1   \n",
       "\n",
       "    AGE_AT_DIAGNOSIS  OS_MONTHS  OS_STATUS  CLAUDIN_SUBTYPE  LATERALITY  \\\n",
       "1           0.285906   0.250890          0                3           1   \n",
       "2           0.362292   0.485556          1                4           1   \n",
       "3           0.346288   0.489216          0                4           1   \n",
       "4           0.740183   0.122477          1                4           1   \n",
       "5           0.764389   0.022853          1                4           0   \n",
       "6           0.464228   0.487436          0                4           1   \n",
       "7           0.646450   0.066185          1                6           0   \n",
       "11          0.837682   0.107341          1                2           0   \n",
       "12          0.854761   0.391571          1                3           0   \n",
       "13          0.658687   0.485061          0                4           0   \n",
       "\n",
       "    RADIO_THERAPY  HISTOLOGICAL_SUBTYPE  BREAST_SURGERY  RFS_STATUS  \\\n",
       "1               1                     0               0           0   \n",
       "2               0                     0               1           1   \n",
       "3               1                     1               1           0   \n",
       "4               1                     1               1           1   \n",
       "5               1                     0               1           1   \n",
       "6               1                     0               0           0   \n",
       "7               1                     2               1           1   \n",
       "11              0                     2               1           1   \n",
       "12              1                     0               1           1   \n",
       "13              1                     0               0           0   \n",
       "\n",
       "    RFS_MONTHS  \n",
       "1     0.256181  \n",
       "2     0.464021  \n",
       "3     0.499233  \n",
       "4     0.056898  \n",
       "5     0.008864  \n",
       "6     0.497423  \n",
       "7     0.036010  \n",
       "11    0.109779  \n",
       "12    0.378259  \n",
       "13    0.495000  "
      ]
     },
     "execution_count": 30,
     "metadata": {},
     "output_type": "execute_result"
    }
   ],
   "source": [
    "#Display the shape and first ten rows of the breast_cancer dataframe after normalization\n",
    "print(X.shape)\n",
    "X.head(10)"
   ]
  },
  {
   "cell_type": "markdown",
   "metadata": {},
   "source": [
    "Note: Due to the wide format of the DataFrame with 18 columns, the output is truncated. The displayed rows and columns offer a glimpse of the data.\n"
   ]
  },
  {
   "cell_type": "markdown",
   "metadata": {},
   "source": [
    "### Export Cleaned Datasets to CSV"
   ]
  },
  {
   "cell_type": "code",
   "execution_count": 31,
   "metadata": {},
   "outputs": [],
   "source": [
    "#Export our normalized X (potential input variables) and Y (VITAL_STATUS) datasets to csv files\n",
    "X.to_csv('breast_cancer_independent_df.csv', index = False)\n",
    "Y.to_csv('breast_cancer_dependent_df.csv', index = False)"
   ]
  },
  {
   "cell_type": "markdown",
   "metadata": {},
   "source": [
    "# __EXPLORATORY DATA ANALYSIS__"
   ]
  },
  {
   "cell_type": "markdown",
   "metadata": {},
   "source": [
    "### Initial Correlation Assessment between Potential Feature Inputs and VITAL_STATUS"
   ]
  },
  {
   "cell_type": "markdown",
   "metadata": {},
   "source": [
    "To assess the correlation between the independent variables (X) and the dependent variable (Y) and determine which features have a significant impact on Y (Vitality of breast cancer patients), we calculate and display the correlation between each independent variable and the dependent variable, sorting the results by the absolute correlation values in descending order. It helps us identify which features have a significant impact on the Vitality (Y) of breast cancer patients."
   ]
  },
  {
   "cell_type": "code",
   "execution_count": 32,
   "metadata": {},
   "outputs": [
    {
     "name": "stdout",
     "output_type": "stream",
     "text": [
      "                               Abs_Correlation\n",
      "OS_STATUS                             1.000000\n",
      "RFS_STATUS                            0.881456\n",
      "RFS_MONTHS                            0.578277\n",
      "OS_MONTHS                             0.520417\n",
      "NPI                                   0.262189\n",
      "LYMPH_NODES_EXAMINED_POSITIVE         0.251130\n",
      "BREAST_SURGERY                        0.188249\n",
      "AGE_AT_DIAGNOSIS                      0.172482\n",
      "COHORT                                0.084048\n",
      "INFERRED_MENOPAUSAL_STATE             0.073097\n",
      "CHEMOTHERAPY                          0.068399\n",
      "HER2_SNP6                             0.067437\n",
      "RADIO_THERAPY                         0.062985\n",
      "HISTOLOGICAL_SUBTYPE                  0.055566\n",
      "LATERALITY                            0.047837\n",
      "ER_IHC                                0.047181\n",
      "CLAUDIN_SUBTYPE                       0.029812\n",
      "CELLULARITY                           0.026896\n",
      "HORMONE_THERAPY                       0.003675\n"
     ]
    }
   ],
   "source": [
    "#Y is dependent variable (VITAL_STATUS) and X are independent variables\n",
    "correlation_with_y = X.corrwith(Y)\n",
    "#Calculate the absolute value\n",
    "# Display the correlation coefficients absolute value by a dataframe\n",
    "correlation_df = pd.DataFrame({'Abs_Correlation': correlation_with_y.abs()})\n",
    "# Sort the dataframe by descending order\n",
    "correlation_df = correlation_df.sort_values(by='Abs_Correlation', ascending=False)\n",
    "# Display the correlation coefficients \n",
    "print(correlation_df)"
   ]
  },
  {
   "cell_type": "markdown",
   "metadata": {},
   "source": [
    "From the correlation coefficients, it can be seen that OS_STATUS has the highest correlation with VITAL_STATUS (1.00). However, after looking carefully the data, we believe that the OS_STATUS and VITAL_STATUS both refer to the vitality status of a patient (living or deceased/died). Therefore, we decide to drop the OS_STATUS as keeping both variables could introduce multicollinearity and potentially bias the model."
   ]
  },
  {
   "cell_type": "code",
   "execution_count": 33,
   "metadata": {},
   "outputs": [],
   "source": [
    "#drop the OS_STATUS variable\n",
    "X = X.drop(columns=['OS_STATUS'])"
   ]
  },
  {
   "cell_type": "markdown",
   "metadata": {},
   "source": [
    "Then, we check the shape and take a look at our independent variables dataframe after dropping OS_STATUS"
   ]
  },
  {
   "cell_type": "code",
   "execution_count": 34,
   "metadata": {},
   "outputs": [
    {
     "name": "stdout",
     "output_type": "stream",
     "text": [
      "(1307, 18)\n"
     ]
    },
    {
     "data": {
      "text/html": [
       "<div>\n",
       "<style scoped>\n",
       "    .dataframe tbody tr th:only-of-type {\n",
       "        vertical-align: middle;\n",
       "    }\n",
       "\n",
       "    .dataframe tbody tr th {\n",
       "        vertical-align: top;\n",
       "    }\n",
       "\n",
       "    .dataframe thead th {\n",
       "        text-align: right;\n",
       "    }\n",
       "</style>\n",
       "<table border=\"1\" class=\"dataframe\">\n",
       "  <thead>\n",
       "    <tr style=\"text-align: right;\">\n",
       "      <th></th>\n",
       "      <th>LYMPH_NODES_EXAMINED_POSITIVE</th>\n",
       "      <th>NPI</th>\n",
       "      <th>CELLULARITY</th>\n",
       "      <th>CHEMOTHERAPY</th>\n",
       "      <th>COHORT</th>\n",
       "      <th>ER_IHC</th>\n",
       "      <th>HER2_SNP6</th>\n",
       "      <th>HORMONE_THERAPY</th>\n",
       "      <th>INFERRED_MENOPAUSAL_STATE</th>\n",
       "      <th>AGE_AT_DIAGNOSIS</th>\n",
       "      <th>OS_MONTHS</th>\n",
       "      <th>CLAUDIN_SUBTYPE</th>\n",
       "      <th>LATERALITY</th>\n",
       "      <th>RADIO_THERAPY</th>\n",
       "      <th>HISTOLOGICAL_SUBTYPE</th>\n",
       "      <th>BREAST_SURGERY</th>\n",
       "      <th>RFS_STATUS</th>\n",
       "      <th>RFS_MONTHS</th>\n",
       "    </tr>\n",
       "  </thead>\n",
       "  <tbody>\n",
       "    <tr>\n",
       "      <th>1</th>\n",
       "      <td>0.000000</td>\n",
       "      <td>0.561798</td>\n",
       "      <td>2</td>\n",
       "      <td>0</td>\n",
       "      <td>1</td>\n",
       "      <td>1</td>\n",
       "      <td>1</td>\n",
       "      <td>1</td>\n",
       "      <td>0</td>\n",
       "      <td>0.285906</td>\n",
       "      <td>0.250890</td>\n",
       "      <td>3</td>\n",
       "      <td>1</td>\n",
       "      <td>1</td>\n",
       "      <td>0</td>\n",
       "      <td>0</td>\n",
       "      <td>0</td>\n",
       "      <td>0.256181</td>\n",
       "    </tr>\n",
       "    <tr>\n",
       "      <th>2</th>\n",
       "      <td>0.022222</td>\n",
       "      <td>0.563670</td>\n",
       "      <td>2</td>\n",
       "      <td>1</td>\n",
       "      <td>1</td>\n",
       "      <td>1</td>\n",
       "      <td>1</td>\n",
       "      <td>1</td>\n",
       "      <td>0</td>\n",
       "      <td>0.362292</td>\n",
       "      <td>0.485556</td>\n",
       "      <td>4</td>\n",
       "      <td>1</td>\n",
       "      <td>0</td>\n",
       "      <td>0</td>\n",
       "      <td>1</td>\n",
       "      <td>1</td>\n",
       "      <td>0.464021</td>\n",
       "    </tr>\n",
       "    <tr>\n",
       "      <th>3</th>\n",
       "      <td>0.066667</td>\n",
       "      <td>0.567416</td>\n",
       "      <td>1</td>\n",
       "      <td>1</td>\n",
       "      <td>1</td>\n",
       "      <td>1</td>\n",
       "      <td>1</td>\n",
       "      <td>1</td>\n",
       "      <td>0</td>\n",
       "      <td>0.346288</td>\n",
       "      <td>0.489216</td>\n",
       "      <td>4</td>\n",
       "      <td>1</td>\n",
       "      <td>1</td>\n",
       "      <td>1</td>\n",
       "      <td>1</td>\n",
       "      <td>0</td>\n",
       "      <td>0.499233</td>\n",
       "    </tr>\n",
       "    <tr>\n",
       "      <th>4</th>\n",
       "      <td>0.177778</td>\n",
       "      <td>0.947566</td>\n",
       "      <td>2</td>\n",
       "      <td>1</td>\n",
       "      <td>1</td>\n",
       "      <td>1</td>\n",
       "      <td>1</td>\n",
       "      <td>1</td>\n",
       "      <td>1</td>\n",
       "      <td>0.740183</td>\n",
       "      <td>0.122477</td>\n",
       "      <td>4</td>\n",
       "      <td>1</td>\n",
       "      <td>1</td>\n",
       "      <td>1</td>\n",
       "      <td>1</td>\n",
       "      <td>1</td>\n",
       "      <td>0.056898</td>\n",
       "    </tr>\n",
       "    <tr>\n",
       "      <th>5</th>\n",
       "      <td>0.000000</td>\n",
       "      <td>0.569663</td>\n",
       "      <td>1</td>\n",
       "      <td>0</td>\n",
       "      <td>1</td>\n",
       "      <td>1</td>\n",
       "      <td>1</td>\n",
       "      <td>1</td>\n",
       "      <td>1</td>\n",
       "      <td>0.764389</td>\n",
       "      <td>0.022853</td>\n",
       "      <td>4</td>\n",
       "      <td>0</td>\n",
       "      <td>1</td>\n",
       "      <td>0</td>\n",
       "      <td>1</td>\n",
       "      <td>1</td>\n",
       "      <td>0.008864</td>\n",
       "    </tr>\n",
       "    <tr>\n",
       "      <th>6</th>\n",
       "      <td>0.022222</td>\n",
       "      <td>0.561798</td>\n",
       "      <td>1</td>\n",
       "      <td>1</td>\n",
       "      <td>1</td>\n",
       "      <td>1</td>\n",
       "      <td>0</td>\n",
       "      <td>1</td>\n",
       "      <td>1</td>\n",
       "      <td>0.464228</td>\n",
       "      <td>0.487436</td>\n",
       "      <td>4</td>\n",
       "      <td>1</td>\n",
       "      <td>1</td>\n",
       "      <td>0</td>\n",
       "      <td>0</td>\n",
       "      <td>0</td>\n",
       "      <td>0.497423</td>\n",
       "    </tr>\n",
       "    <tr>\n",
       "      <th>7</th>\n",
       "      <td>0.000000</td>\n",
       "      <td>0.956929</td>\n",
       "      <td>2</td>\n",
       "      <td>1</td>\n",
       "      <td>1</td>\n",
       "      <td>0</td>\n",
       "      <td>1</td>\n",
       "      <td>0</td>\n",
       "      <td>1</td>\n",
       "      <td>0.646450</td>\n",
       "      <td>0.066185</td>\n",
       "      <td>6</td>\n",
       "      <td>0</td>\n",
       "      <td>1</td>\n",
       "      <td>2</td>\n",
       "      <td>1</td>\n",
       "      <td>1</td>\n",
       "      <td>0.036010</td>\n",
       "    </tr>\n",
       "    <tr>\n",
       "      <th>11</th>\n",
       "      <td>0.000000</td>\n",
       "      <td>0.381273</td>\n",
       "      <td>2</td>\n",
       "      <td>0</td>\n",
       "      <td>1</td>\n",
       "      <td>0</td>\n",
       "      <td>0</td>\n",
       "      <td>0</td>\n",
       "      <td>1</td>\n",
       "      <td>0.837682</td>\n",
       "      <td>0.107341</td>\n",
       "      <td>2</td>\n",
       "      <td>0</td>\n",
       "      <td>0</td>\n",
       "      <td>2</td>\n",
       "      <td>1</td>\n",
       "      <td>1</td>\n",
       "      <td>0.109779</td>\n",
       "    </tr>\n",
       "    <tr>\n",
       "      <th>12</th>\n",
       "      <td>0.000000</td>\n",
       "      <td>0.379026</td>\n",
       "      <td>1</td>\n",
       "      <td>0</td>\n",
       "      <td>1</td>\n",
       "      <td>1</td>\n",
       "      <td>1</td>\n",
       "      <td>1</td>\n",
       "      <td>1</td>\n",
       "      <td>0.854761</td>\n",
       "      <td>0.391571</td>\n",
       "      <td>3</td>\n",
       "      <td>0</td>\n",
       "      <td>1</td>\n",
       "      <td>0</td>\n",
       "      <td>1</td>\n",
       "      <td>1</td>\n",
       "      <td>0.378259</td>\n",
       "    </tr>\n",
       "    <tr>\n",
       "      <th>13</th>\n",
       "      <td>0.000000</td>\n",
       "      <td>0.191386</td>\n",
       "      <td>2</td>\n",
       "      <td>0</td>\n",
       "      <td>1</td>\n",
       "      <td>1</td>\n",
       "      <td>2</td>\n",
       "      <td>1</td>\n",
       "      <td>1</td>\n",
       "      <td>0.658687</td>\n",
       "      <td>0.485061</td>\n",
       "      <td>4</td>\n",
       "      <td>0</td>\n",
       "      <td>1</td>\n",
       "      <td>0</td>\n",
       "      <td>0</td>\n",
       "      <td>0</td>\n",
       "      <td>0.495000</td>\n",
       "    </tr>\n",
       "  </tbody>\n",
       "</table>\n",
       "</div>"
      ],
      "text/plain": [
       "    LYMPH_NODES_EXAMINED_POSITIVE       NPI  CELLULARITY  CHEMOTHERAPY  \\\n",
       "1                        0.000000  0.561798            2             0   \n",
       "2                        0.022222  0.563670            2             1   \n",
       "3                        0.066667  0.567416            1             1   \n",
       "4                        0.177778  0.947566            2             1   \n",
       "5                        0.000000  0.569663            1             0   \n",
       "6                        0.022222  0.561798            1             1   \n",
       "7                        0.000000  0.956929            2             1   \n",
       "11                       0.000000  0.381273            2             0   \n",
       "12                       0.000000  0.379026            1             0   \n",
       "13                       0.000000  0.191386            2             0   \n",
       "\n",
       "    COHORT  ER_IHC  HER2_SNP6  HORMONE_THERAPY  INFERRED_MENOPAUSAL_STATE  \\\n",
       "1        1       1          1                1                          0   \n",
       "2        1       1          1                1                          0   \n",
       "3        1       1          1                1                          0   \n",
       "4        1       1          1                1                          1   \n",
       "5        1       1          1                1                          1   \n",
       "6        1       1          0                1                          1   \n",
       "7        1       0          1                0                          1   \n",
       "11       1       0          0                0                          1   \n",
       "12       1       1          1                1                          1   \n",
       "13       1       1          2                1                          1   \n",
       "\n",
       "    AGE_AT_DIAGNOSIS  OS_MONTHS  CLAUDIN_SUBTYPE  LATERALITY  RADIO_THERAPY  \\\n",
       "1           0.285906   0.250890                3           1              1   \n",
       "2           0.362292   0.485556                4           1              0   \n",
       "3           0.346288   0.489216                4           1              1   \n",
       "4           0.740183   0.122477                4           1              1   \n",
       "5           0.764389   0.022853                4           0              1   \n",
       "6           0.464228   0.487436                4           1              1   \n",
       "7           0.646450   0.066185                6           0              1   \n",
       "11          0.837682   0.107341                2           0              0   \n",
       "12          0.854761   0.391571                3           0              1   \n",
       "13          0.658687   0.485061                4           0              1   \n",
       "\n",
       "    HISTOLOGICAL_SUBTYPE  BREAST_SURGERY  RFS_STATUS  RFS_MONTHS  \n",
       "1                      0               0           0    0.256181  \n",
       "2                      0               1           1    0.464021  \n",
       "3                      1               1           0    0.499233  \n",
       "4                      1               1           1    0.056898  \n",
       "5                      0               1           1    0.008864  \n",
       "6                      0               0           0    0.497423  \n",
       "7                      2               1           1    0.036010  \n",
       "11                     2               1           1    0.109779  \n",
       "12                     0               1           1    0.378259  \n",
       "13                     0               0           0    0.495000  "
      ]
     },
     "execution_count": 34,
     "metadata": {},
     "output_type": "execute_result"
    }
   ],
   "source": [
    "#Print the shape of the independent variables (X) dataframe  \n",
    "print(X.shape) \n",
    "#Display the first ten rows of the dataframe\n",
    "X.head(10)"
   ]
  },
  {
   "cell_type": "markdown",
   "metadata": {},
   "source": [
    "Note: Due to the wide format of the DataFrame with 18 columns, the output is truncated. The displayed rows and columns offer a glimpse of the data.\n"
   ]
  },
  {
   "cell_type": "markdown",
   "metadata": {},
   "source": [
    "From the absolute correlation result above, we want to visualize the correlation between our independent variables (features) and the dependent variable, VITAL_STATUS, in the form of a bar chart. This visualization provides a clear and intuitive way to assess the strength and direction of the relationships between each feature and the vital status of breast cancer patients."
   ]
  },
  {
   "cell_type": "code",
   "execution_count": 35,
   "metadata": {},
   "outputs": [
    {
     "data": {
      "image/png": "[encoded data removed]",
      "text/plain": [
       "<Figure size 1200x600 with 1 Axes>"
      ]
     },
     "metadata": {},
     "output_type": "display_data"
    }
   ],
   "source": [
    "# Calculate the absolute correlation between \n",
    "# independent variables (X) and the dependent variable (Y)\n",
    "abs_correlation_with_y = X.corrwith(Y).abs()\n",
    "# Create a bar plot to visualize the absolute correlation values\n",
    "abs_correlation_with_y.plot(kind='bar', figsize=(12, 6))\n",
    "# Set the title of the plot\n",
    "plt.title('Correlation with VITAL_STATUS')\n",
    "# Label the x-axis as 'Feature'\n",
    "plt.xlabel('Feature')\n",
    "# Label the y-axis as 'Correlation Coefficient'\n",
    "plt.ylabel('Correlation Coefficient')\n",
    "# Rotate x-axis labels and fontsize for better readability\n",
    "plt.xticks(rotation=45)\n",
    "plt.xticks(fontsize=8)\n",
    "plt.xticks(ha='right')\n",
    "plt.show()"
   ]
  },
  {
   "cell_type": "markdown",
   "metadata": {},
   "source": [
    "From this bar chart, it is much easier to identify the independent variables that have more significant correlation with our dependent variable, VITAL_STATUS. Some of these include LYMPH_NODES_EXAMINED_POSITIVE, NPI, AGE_AT_DIAGNOSIS, OS_MONTHS, BREAST_SURGERY, RFS_STATUS, and RFS_MONTHS. This will help us when we think about which variables to conduct further analyses and hypothesis tests on."
   ]
  },
  {
   "cell_type": "markdown",
   "metadata": {},
   "source": [
    "### Summary Statistics for Numerical Variables"
   ]
  },
  {
   "cell_type": "markdown",
   "metadata": {},
   "source": [
    "To look into the central tendency (mean) and variability (standard deviation) of our numerical variables, we perform summary statistics (Mean, Standard Deviation) on our original dataset (not normalized). The goal of this is to gain insight into distribution and other characteristics of our data to aid further analysis."
   ]
  },
  {
   "cell_type": "code",
   "execution_count": 36,
   "metadata": {},
   "outputs": [
    {
     "name": "stdout",
     "output_type": "stream",
     "text": [
      "Summary Statistics - Mean:\n",
      "LYMPH_NODES_EXAMINED_POSITIVE      2.078806\n",
      "NPI                                4.137219\n",
      "CELLULARITY                        1.398623\n",
      "CHEMOTHERAPY                       0.263963\n",
      "COHORT                             2.485845\n",
      "ER_IHC                             0.744453\n",
      "HER2_SNP6                          1.179801\n",
      "HORMONE_THERAPY                    0.596787\n",
      "INFERRED_MENOPAUSAL_STATE          0.726090\n",
      "AGE_AT_DIAGNOSIS                  58.337039\n",
      "OS_MONTHS                        125.713925\n",
      "OS_STATUS                          0.436113\n",
      "CLAUDIN_SUBTYPE                    2.793420\n",
      "VITAL_STATUS                       0.436113\n",
      "LATERALITY                         0.485080\n",
      "RADIO_THERAPY                      0.646519\n",
      "HISTOLOGICAL_SUBTYPE               0.481255\n",
      "BREAST_SURGERY                     0.573068\n",
      "RFS_STATUS                         0.498852\n",
      "RFS_MONTHS                       108.800237\n",
      "Name: mean, dtype: float64\n",
      "\n",
      "Summary Statistics - Standard Deviation:\n",
      "LYMPH_NODES_EXAMINED_POSITIVE     4.118356\n",
      "NPI                               1.124039\n",
      "CELLULARITY                       0.676287\n",
      "CHEMOTHERAPY                      0.440948\n",
      "COHORT                            1.213278\n",
      "ER_IHC                            0.436335\n",
      "HER2_SNP6                         0.515270\n",
      "HORMONE_THERAPY                   0.490731\n",
      "INFERRED_MENOPAUSAL_STATE         0.446134\n",
      "AGE_AT_DIAGNOSIS                 12.703765\n",
      "OS_MONTHS                        78.260102\n",
      "OS_STATUS                         0.496092\n",
      "CLAUDIN_SUBTYPE                   1.592051\n",
      "VITAL_STATUS                      0.496092\n",
      "LATERALITY                        0.499969\n",
      "RADIO_THERAPY                     0.478233\n",
      "HISTOLOGICAL_SUBTYPE              1.175389\n",
      "BREAST_SURGERY                    0.494822\n",
      "RFS_STATUS                        0.500190\n",
      "RFS_MONTHS                       78.816471\n",
      "Name: std, dtype: float64\n"
     ]
    }
   ],
   "source": [
    "# Calculate mean and standard deviation for numeric columns\n",
    "numeric_summary = breast_cancer_df.describe()\n",
    "\n",
    "# Display mean and standard deviation\n",
    "print(\"Summary Statistics - Mean:\")\n",
    "print(numeric_summary.loc['mean'])  # Mean\n",
    "print(\"\\nSummary Statistics - Standard Deviation:\")\n",
    "print(numeric_summary.loc['std'])  # Standard Deviation"
   ]
  },
  {
   "cell_type": "markdown",
   "metadata": {},
   "source": [
    "### Count of Each VITAL_STATUS Outcome"
   ]
  },
  {
   "cell_type": "markdown",
   "metadata": {},
   "source": [
    "To understand the distribution of VITAL_STATUS outcomes, we plot a bar graph to compare the number of \"Living\" and \"Died of Disease\" cases in the 'VITAL_STATUS' column, which are represented by 0 and 1 respectively."
   ]
  },
  {
   "cell_type": "code",
   "execution_count": 37,
   "metadata": {},
   "outputs": [
    {
     "name": "stderr",
     "output_type": "stream",
     "text": [
      "/Users/katherinegao888/anaconda3/envs/info2950/lib/python3.11/site-packages/seaborn/_oldcore.py:1498: FutureWarning: is_categorical_dtype is deprecated and will be removed in a future version. Use isinstance(dtype, CategoricalDtype) instead\n",
      "  if pd.api.types.is_categorical_dtype(vector):\n",
      "/Users/katherinegao888/anaconda3/envs/info2950/lib/python3.11/site-packages/seaborn/_oldcore.py:1498: FutureWarning: is_categorical_dtype is deprecated and will be removed in a future version. Use isinstance(dtype, CategoricalDtype) instead\n",
      "  if pd.api.types.is_categorical_dtype(vector):\n",
      "/Users/katherinegao888/anaconda3/envs/info2950/lib/python3.11/site-packages/seaborn/_oldcore.py:1498: FutureWarning: is_categorical_dtype is deprecated and will be removed in a future version. Use isinstance(dtype, CategoricalDtype) instead\n",
      "  if pd.api.types.is_categorical_dtype(vector):\n"
     ]
    },
    {
     "data": {
      "image/png": "[encoded data removed]",
      "text/plain": [
       "<Figure size 640x480 with 1 Axes>"
      ]
     },
     "metadata": {},
     "output_type": "display_data"
    }
   ],
   "source": [
    "# Create Bar graph to visualize the distribution of \"Living\" and \"Died of Disease\" cases in 'VITAL_STATUS'\n",
    "sns.countplot(x='VITAL_STATUS', data=breast_cancer_df)\n",
    "plt.xlabel('Vital Status')\n",
    "plt.ylabel('Count of Patients')\n",
    "plt.title(\"Comparison of 'Living' vs 'Died of Disease' Cases\")\n",
    "plt.show()"
   ]
  },
  {
   "cell_type": "markdown",
   "metadata": {},
   "source": [
    "**Insight: Class Imbalance**\n",
    "\n",
    "The bar graph illustrates a clear class imbalance within our dataset: the 'Living' category, denoted by `vital_status = 0`, represents a larger proportion of our patients, indicating that the majority of individuals in our study are currently alive. This disproportionate representation underscores the greater prevalence of living patients compared to those who have unfortunately succumbed to the disease, reflected by `vital_status = 1`.\n",
    "\n",
    "Dealing with class imbalance is crucial data science, especially in medical datasets where the outcome variable is critical. Then, we will apply the Synthetic Minority Over-sampling Technique (SMOTE) to handle this problem in our Data Analysis section."
   ]
  },
  {
   "cell_type": "markdown",
   "metadata": {},
   "source": [
    "### Count of Each VITAL_STATUS Outcome by Input Value"
   ]
  },
  {
   "cell_type": "markdown",
   "metadata": {},
   "source": [
    "To further explore the distribution of our outcome variable, we wanted to see if this distribution changed with different values for our input variables. We visualized these as such."
   ]
  },
  {
   "cell_type": "markdown",
   "metadata": {},
   "source": [
    "LYMPH_NODES_EXAMINED_POSITIVE: We create a histogram to visualize the count of each \"VITAL_STATUS\" outcome, \"Living\" vs \"Died of Disease\", based on the LYMPH_NODES_EXAMINED_POSITIVE value. From this histogram, we can see that as the LYMPH_NODES_EXAMINED_POSITIVE value increases, the proportion of \"Died of Disease\" patients becomes greater relative to \"Living\" patients."
   ]
  },
  {
   "cell_type": "code",
   "execution_count": 38,
   "metadata": {},
   "outputs": [
    {
     "name": "stderr",
     "output_type": "stream",
     "text": [
      "/Users/katherinegao888/anaconda3/envs/info2950/lib/python3.11/site-packages/seaborn/_oldcore.py:1498: FutureWarning: is_categorical_dtype is deprecated and will be removed in a future version. Use isinstance(dtype, CategoricalDtype) instead\n",
      "  if pd.api.types.is_categorical_dtype(vector):\n",
      "/Users/katherinegao888/anaconda3/envs/info2950/lib/python3.11/site-packages/seaborn/_oldcore.py:1498: FutureWarning: is_categorical_dtype is deprecated and will be removed in a future version. Use isinstance(dtype, CategoricalDtype) instead\n",
      "  if pd.api.types.is_categorical_dtype(vector):\n",
      "/Users/katherinegao888/anaconda3/envs/info2950/lib/python3.11/site-packages/seaborn/_oldcore.py:1498: FutureWarning: is_categorical_dtype is deprecated and will be removed in a future version. Use isinstance(dtype, CategoricalDtype) instead\n",
      "  if pd.api.types.is_categorical_dtype(vector):\n",
      "/Users/katherinegao888/anaconda3/envs/info2950/lib/python3.11/site-packages/seaborn/_oldcore.py:1498: FutureWarning: is_categorical_dtype is deprecated and will be removed in a future version. Use isinstance(dtype, CategoricalDtype) instead\n",
      "  if pd.api.types.is_categorical_dtype(vector):\n",
      "/Users/katherinegao888/anaconda3/envs/info2950/lib/python3.11/site-packages/seaborn/_oldcore.py:1119: FutureWarning: use_inf_as_na option is deprecated and will be removed in a future version. Convert inf values to NaN before operating instead.\n",
      "  with pd.option_context('mode.use_inf_as_na', True):\n"
     ]
    },
    {
     "data": {
      "image/png": "[encoded data removed]",
      "text/plain": [
       "<Figure size 1000x800 with 1 Axes>"
      ]
     },
     "metadata": {},
     "output_type": "display_data"
    }
   ],
   "source": [
    "# Histogram comparing 'VITAL_STATUS' counts for a categorical LYMPH_NODES_EXAMINED_POSITIVE\n",
    "plt.figure(figsize=(10, 8))\n",
    "sns.histplot(data=breast_cancer_df, x='LYMPH_NODES_EXAMINED_POSITIVE', hue='VITAL_STATUS', multiple='dodge', binwidth=1, shrink=0.8)\n",
    "plt.xlabel('Number of Positive Lymph Nodes')\n",
    "plt.ylabel('Count of Patients')\n",
    "plt.title('Distribution of Vital Status by Number of Positive Lymph Nodes')\n",
    "plt.legend(title='Vital Status', labels=['Survived', 'Died'])\n",
    "plt.show()"
   ]
  },
  {
   "cell_type": "markdown",
   "metadata": {},
   "source": [
    "CHEMOTHERAPY: We create a histogram to visualize the count of each \"VITAL_STATUS\" outcome, \"Living\" vs \"Died of Disease\", based on the CHEMOTHERAPY value. From this histogram, we can see that for both patients who have and haven't had chemotherapy, more patients have lived than died of disease, but the proportion of patients that died of disease increases with chemotherapy."
   ]
  },
  {
   "cell_type": "code",
   "execution_count": 39,
   "metadata": {},
   "outputs": [
    {
     "name": "stderr",
     "output_type": "stream",
     "text": [
      "/Users/katherinegao888/anaconda3/envs/info2950/lib/python3.11/site-packages/seaborn/_oldcore.py:1498: FutureWarning: is_categorical_dtype is deprecated and will be removed in a future version. Use isinstance(dtype, CategoricalDtype) instead\n",
      "  if pd.api.types.is_categorical_dtype(vector):\n",
      "/Users/katherinegao888/anaconda3/envs/info2950/lib/python3.11/site-packages/seaborn/_oldcore.py:1498: FutureWarning: is_categorical_dtype is deprecated and will be removed in a future version. Use isinstance(dtype, CategoricalDtype) instead\n",
      "  if pd.api.types.is_categorical_dtype(vector):\n",
      "/Users/katherinegao888/anaconda3/envs/info2950/lib/python3.11/site-packages/seaborn/_oldcore.py:1498: FutureWarning: is_categorical_dtype is deprecated and will be removed in a future version. Use isinstance(dtype, CategoricalDtype) instead\n",
      "  if pd.api.types.is_categorical_dtype(vector):\n",
      "/Users/katherinegao888/anaconda3/envs/info2950/lib/python3.11/site-packages/seaborn/_oldcore.py:1498: FutureWarning: is_categorical_dtype is deprecated and will be removed in a future version. Use isinstance(dtype, CategoricalDtype) instead\n",
      "  if pd.api.types.is_categorical_dtype(vector):\n",
      "/Users/katherinegao888/anaconda3/envs/info2950/lib/python3.11/site-packages/seaborn/_oldcore.py:1119: FutureWarning: use_inf_as_na option is deprecated and will be removed in a future version. Convert inf values to NaN before operating instead.\n",
      "  with pd.option_context('mode.use_inf_as_na', True):\n"
     ]
    },
    {
     "data": {
      "image/png": "[encoded data removed]",
      "text/plain": [
       "<Figure size 800x600 with 1 Axes>"
      ]
     },
     "metadata": {},
     "output_type": "display_data"
    }
   ],
   "source": [
    "# Histogram comparing 'VITAL_STATUS' counts for a categorical 'CHEMOTHERAPY'\n",
    "plt.figure(figsize=(8, 6))\n",
    "sns.histplot(data=breast_cancer_df, x='CHEMOTHERAPY', hue='VITAL_STATUS', multiple='dodge', shrink=0.8)\n",
    "plt.xlabel('CHEMOTHERAPY')\n",
    "plt.ylabel('Count of Patients')\n",
    "plt.title('Histogram: VITAL_STATUS by CHEMOTHERAPY')\n",
    "plt.legend(title='VITAL_STATUS', labels=['Survived', 'Died'])\n",
    "plt.show()"
   ]
  },
  {
   "cell_type": "markdown",
   "metadata": {},
   "source": [
    "HORMONE_THERAPY: We create a histogram to visualize the count of each \"VITAL_STATUS\" outcome, \"Living\" vs \"Died of Disease\", based on the HORMONE_THERAPY value. From this histogram, we can see that for both patients who have and haven't had hormone therapy, more patients have lived than died of disease, but the proportion of patients that died of disease seems to increase slightly with hormone therapy."
   ]
  },
  {
   "cell_type": "code",
   "execution_count": 40,
   "metadata": {},
   "outputs": [
    {
     "name": "stderr",
     "output_type": "stream",
     "text": [
      "/Users/katherinegao888/anaconda3/envs/info2950/lib/python3.11/site-packages/seaborn/_oldcore.py:1498: FutureWarning: is_categorical_dtype is deprecated and will be removed in a future version. Use isinstance(dtype, CategoricalDtype) instead\n",
      "  if pd.api.types.is_categorical_dtype(vector):\n",
      "/Users/katherinegao888/anaconda3/envs/info2950/lib/python3.11/site-packages/seaborn/_oldcore.py:1498: FutureWarning: is_categorical_dtype is deprecated and will be removed in a future version. Use isinstance(dtype, CategoricalDtype) instead\n",
      "  if pd.api.types.is_categorical_dtype(vector):\n",
      "/Users/katherinegao888/anaconda3/envs/info2950/lib/python3.11/site-packages/seaborn/_oldcore.py:1498: FutureWarning: is_categorical_dtype is deprecated and will be removed in a future version. Use isinstance(dtype, CategoricalDtype) instead\n",
      "  if pd.api.types.is_categorical_dtype(vector):\n",
      "/Users/katherinegao888/anaconda3/envs/info2950/lib/python3.11/site-packages/seaborn/_oldcore.py:1498: FutureWarning: is_categorical_dtype is deprecated and will be removed in a future version. Use isinstance(dtype, CategoricalDtype) instead\n",
      "  if pd.api.types.is_categorical_dtype(vector):\n",
      "/Users/katherinegao888/anaconda3/envs/info2950/lib/python3.11/site-packages/seaborn/_oldcore.py:1119: FutureWarning: use_inf_as_na option is deprecated and will be removed in a future version. Convert inf values to NaN before operating instead.\n",
      "  with pd.option_context('mode.use_inf_as_na', True):\n"
     ]
    },
    {
     "data": {
      "image/png": "[encoded data removed]",
      "text/plain": [
       "<Figure size 800x600 with 1 Axes>"
      ]
     },
     "metadata": {},
     "output_type": "display_data"
    }
   ],
   "source": [
    "# Histogram comparing 'VITAL_STATUS' counts for a categorical 'HORMONE_THERAPY'\n",
    "plt.figure(figsize=(8, 6))\n",
    "sns.histplot(data=breast_cancer_df, x='HORMONE_THERAPY', hue='VITAL_STATUS', multiple='dodge', shrink=0.8)\n",
    "plt.xlabel('HORMONE_THERAPY')\n",
    "plt.ylabel('Count of Patients')\n",
    "plt.title('Histogram: VITAL_STATUS by HORMONE_THERAPY')\n",
    "plt.legend(title='VITAL_STATUS', labels=['Survived', 'Died'])\n",
    "plt.show()"
   ]
  },
  {
   "cell_type": "markdown",
   "metadata": {},
   "source": [
    "### Exploratory Analysis of Distribution Among Categorical Variables"
   ]
  },
  {
   "cell_type": "markdown",
   "metadata": {},
   "source": [
    "Moving past our outcome variable, we wanted to also determine the distribution of values for various categorical variables in our dataset."
   ]
  },
  {
   "cell_type": "markdown",
   "metadata": {},
   "source": [
    "We create pie charts for a few of our categorical variables to depict the distribution among its categorical values. Our categorical variables include CELLULARITY, CHEMOTHERAPY, COHORT, ER_IHC, HER2_SNP6, HORMONE_THERAPY, INFERRED_MENOPAUSAL_STATE, CLAUDIN_SUBTYPE, LATERALITY, RADIO_THERAPY, HISTOLOGICAL_SUBTYPE, BREAST_SURGERY, RFS_STATUS. However, for our exploratory analysis in this section, we only take a look at a few variables that we have reason to believe has significant effects on the vitality of a patient, based on our prior conceptual knowledge. These include CELLULARITY and the three therapies. Descriptions of each will be given alongside the associated visualization for clarity."
   ]
  },
  {
   "cell_type": "markdown",
   "metadata": {},
   "source": [
    "CELLULARITY: First, we create a pie chart to understand the breakdown of Cellularity among patients. Cellularity refers to the density or concentration of tumor cells within a tissue of sample. This dataset classifies them into high, moderate, and low cellularity. The pie chart below shows around half of the patients in the dataset having high cellularity."
   ]
  },
  {
   "cell_type": "code",
   "execution_count": 41,
   "metadata": {},
   "outputs": [
    {
     "data": {
      "text/plain": [
       "Text(0.5, 1.0, 'CELLULARITY')"
      ]
     },
     "execution_count": 41,
     "metadata": {},
     "output_type": "execute_result"
    },
    {
     "data": {
      "image/png": "[encoded data removed]",
      "text/plain": [
       "<Figure size 640x480 with 1 Axes>"
      ]
     },
     "metadata": {},
     "output_type": "display_data"
    }
   ],
   "source": [
    "#creates a pie chart representing the Basic analysis of CELLULARITY distributions\n",
    "def autopct_format(values):\n",
    "        def my_format(pct):\n",
    "            total = sum(values)\n",
    "            val = int(round(pct*total/100.0))\n",
    "            return '{:.1f}%\\n({v:d})'.format(pct, v=val)\n",
    "        return my_format\n",
    "#Define a mapping from numeric values to descriptive labels\n",
    "mapp_value= {0:'Low', 1:'Moderate', 2:'High'}\n",
    "#Count the occurrences of each category\n",
    "m= X['CELLULARITY'].value_counts()\n",
    "#Map the numeric index to descriptive labels\n",
    "m.index=m.index.to_series().map(mapp_value)\n",
    "#Create a pie chart with labels and custom autopct formatting\n",
    "plt.pie(m, labels=m.index,autopct=autopct_format(m))\n",
    "plt.title('CELLULARITY')"
   ]
  },
  {
   "cell_type": "markdown",
   "metadata": {},
   "source": [
    "CHEMOTHERAPY: We create a pie chart to understand the breakdown of having had chemotherapy among patients. Chemotherapy refers to a medical treatment for cancer, invloving the use of drugs or medication to kill or slow the growth of rapidly dividing cells. This dataset assigns patients a \"No\" value if they have not had chemotherapy, and a \"Yes\" value if they have had chemotherapy. The pie chart below shows around 74% of patients in the data set do not have chemotherapy."
   ]
  },
  {
   "cell_type": "code",
   "execution_count": 42,
   "metadata": {},
   "outputs": [
    {
     "data": {
      "text/plain": [
       "Text(0.5, 1.0, 'CHEMOTHERAPY')"
      ]
     },
     "execution_count": 42,
     "metadata": {},
     "output_type": "execute_result"
    },
    {
     "data": {
      "image/png": "[encoded data removed]",
      "text/plain": [
       "<Figure size 640x480 with 1 Axes>"
      ]
     },
     "metadata": {},
     "output_type": "display_data"
    }
   ],
   "source": [
    "##creates a pie chart representing the Basic analysis of CHEMOTHERAPY distributions\n",
    "def autopct_format(values):\n",
    "        def my_format(pct):\n",
    "            total = sum(values)\n",
    "            val = int(round(pct*total/100.0))\n",
    "            return '{:.1f}%\\n({v:d})'.format(pct, v=val)\n",
    "        return my_format\n",
    "#Define a mapping from numeric values to descriptive labels\n",
    "mapp_value= {0:'No', 1:'Yes'}\n",
    "#Count the occurrences of each category\n",
    "m= X['CHEMOTHERAPY'].value_counts()\n",
    "#Map the numeric index to descriptive labels\n",
    "m.index=m.index.to_series().map(mapp_value)\n",
    "#Create a pie chart with labels and custom autopct formatting\n",
    "plt.pie(m, labels=m.index,autopct=autopct_format(m))\n",
    "plt.title('CHEMOTHERAPY')"
   ]
  },
  {
   "cell_type": "markdown",
   "metadata": {},
   "source": [
    "HORMONE_THERAPY: We create a pie chart to understand the distribution of Hormone therapy among patients. Hormone therapy refers to a medical treatment that involves altering the levels or effects of hormones in the body. The dataset gives the value \"No\" to patients who have not had hormone therapy, and \"Yes\" to patients that have had hormone therapy. The pie chart below shows that most patients have had hormone therapy (~60%)."
   ]
  },
  {
   "cell_type": "code",
   "execution_count": 43,
   "metadata": {},
   "outputs": [
    {
     "data": {
      "text/plain": [
       "Text(0.5, 1.0, 'HORMONE_THERAPY')"
      ]
     },
     "execution_count": 43,
     "metadata": {},
     "output_type": "execute_result"
    },
    {
     "data": {
      "image/png": "[encoded data removed]",
      "text/plain": [
       "<Figure size 640x480 with 1 Axes>"
      ]
     },
     "metadata": {},
     "output_type": "display_data"
    }
   ],
   "source": [
    "##creates a pie chart representing the analysis of HORMONE_THERAPY distributions\n",
    "def autopct_format(values):\n",
    "        def my_format(pct):\n",
    "            total = sum(values)\n",
    "            val = int(round(pct*total/100.0))\n",
    "            return '{:.1f}%\\n({v:d})'.format(pct, v=val)\n",
    "        return my_format\n",
    "#Define a mapping from numeric values to descriptive labels\n",
    "mapp_value= {0:'No', 1: 'Yes'}\n",
    "#Count the occurrences of each category\n",
    "m= X['HORMONE_THERAPY'].value_counts()\n",
    "#Map the numeric index to descriptive labels\n",
    "m.index=m.index.to_series().map(mapp_value)\n",
    "#Create a pie chart with labels and custom autopct formatting\n",
    "plt.pie(m, labels=m.index,autopct=autopct_format(m))\n",
    "plt.title('HORMONE_THERAPY')"
   ]
  },
  {
   "cell_type": "markdown",
   "metadata": {},
   "source": [
    "RADIO_THERAPY: We create a pie chart to determine the distribution of radiotherapy among patients in the data set. Radiotherapy, or radiation therapy, refers to a cancer therapy treatment using ionizing radiation to kill or control the growth of malignant cells. The data classifies patients into \"Yes\" for having had readiotherapy or \"No\" for not having had radiotherapy. The pie chart below shows that most patients have had radiotherapy, with 64.7% being labeled \"Yes.\" "
   ]
  },
  {
   "cell_type": "code",
   "execution_count": 44,
   "metadata": {},
   "outputs": [
    {
     "data": {
      "text/plain": [
       "Text(0.5, 1.0, 'RADIO_THERAPY')"
      ]
     },
     "execution_count": 44,
     "metadata": {},
     "output_type": "execute_result"
    },
    {
     "data": {
      "image/png": "[encoded data removed]",
      "text/plain": [
       "<Figure size 640x480 with 1 Axes>"
      ]
     },
     "metadata": {},
     "output_type": "display_data"
    }
   ],
   "source": [
    "##creates a pie chart representing the analysis of RADIO_THERAPY distributions \n",
    "def autopct_format(values):\n",
    "        def my_format(pct):\n",
    "            total = sum(values)\n",
    "            val = int(round(pct*total/100.0))\n",
    "            return '{:.1f}%\\n({v:d})'.format(pct, v=val)\n",
    "        return my_format\n",
    "#Define a mapping from numeric values to descriptive labels\n",
    "mapp_value= {1:'YES', 0:'NO'}\n",
    "#Count the occurrences of each category\n",
    "m = X['RADIO_THERAPY'].value_counts()\n",
    "#Map the numeric index to descriptive labels\n",
    "m.index=m.index.to_series().map(mapp_value)\n",
    "#Create a pie chart with labels and custom autopct formatting\n",
    "plt.pie(m, labels=m.index,autopct=autopct_format(m))\n",
    "plt.title('RADIO_THERAPY')\n"
   ]
  },
  {
   "cell_type": "markdown",
   "metadata": {},
   "source": [
    "### Exploratory Analysis Comparing Distribution of Numerical Variables Between Two States of VITAL_STATUS"
   ]
  },
  {
   "cell_type": "markdown",
   "metadata": {},
   "source": [
    "We wanted to conduct a similar exploratory analysis as in the previous section, but this time, with our numerical input variables. To provide slightly more valuable insight than simply the distribution of our numerical inputs in our dataset as a whole, we wanted to compare the distributions between the two states of Vital_Status. The hope was for this to offer early analysis into whether each input variable differed based on vitality, and if so, how."
   ]
  },
  {
   "cell_type": "markdown",
   "metadata": {},
   "source": [
    "We create boxplots for the numerical independent variables, LYMPH_NODES_EXAMINED_POSITIVE, NPI, AGE_AT_DIAGNOSIS, OS_MONTHS, RFS_MONTHS, based on the binary dependent variable, vitality of a patient. This will help us assess the distribution of input variables based on whether the patient is living or died of disease.\n",
    "First, we create a function that draws boxplots representing the the numerical independent variable as a function of the binary dependent variable."
   ]
  },
  {
   "cell_type": "code",
   "execution_count": 45,
   "metadata": {},
   "outputs": [],
   "source": [
    "#Create boxplots to visualize the distribution of an independent variable \n",
    "#according to a dependent variable.\n",
    "def indep_by_dep_boxplot(df,independent,dependent):\n",
    "    '''\n",
    "    Param df: dataframe containing both the dependent and independent columns\n",
    "    Param dependent: column which serves as the dependent variable\n",
    "    Param independent: column which serves as the independent variable \n",
    "    which is plotted according the independent column.\n",
    "    '''\n",
    "\n",
    "    print('\\n Distribution of {} according to {}'.format(independent,dependent)+':\\n')\n",
    "\n",
    "    #Define colors for the boxplots\n",
    "    colors=['blue','grey']\n",
    "\n",
    "    #Get unique values of the dependent variable\n",
    "    criteria=[i for i in df[dependent].sort_values(ascending=True).dropna().unique()]\n",
    "\n",
    "    #Calculate the number of unique criteria\n",
    "    col_count=len(criteria)\n",
    "    \n",
    "    #Create a melted table for visualization\n",
    "    table=df.melt(id_vars=[dependent],value_vars=[independent]).dropna()\n",
    "\n",
    "    #Create subplots to display boxplots\n",
    "    fig,ax=plt.subplots(nrows=1,ncols=col_count,figsize=(6,5))\n",
    "    for i in range(0,col_count):\n",
    "        sns.boxplot(data=table.where(table[dependent]\n",
    "                                     ==criteria[i]).value,ax=ax[i],color=colors[i])\n",
    "        ax[i].set_title(dependent + ' = ' + str(criteria[i]))\n",
    "        plt.tight_layout()\n",
    "\n",
    "    #Display the boxplots\n",
    "    plt.show()"
   ]
  },
  {
   "cell_type": "markdown",
   "metadata": {},
   "source": [
    "LYMPH_NODES_EXAMINED_POSITIVE: We create two boxplots comparing the distribution of lymph_nodes_examined_positive between patients that are alive versus patients that have died of cancer. This variable refers to the number of lymph nodes in which cancer cells are detected. Since vital status = 1 means the patient has died of the cancer, it appears below that patients who have passed have more lymph nodes positive with cancer cells on average, but the range is also larger."
   ]
  },
  {
   "cell_type": "code",
   "execution_count": 46,
   "metadata": {},
   "outputs": [
    {
     "name": "stdout",
     "output_type": "stream",
     "text": [
      "\n",
      " Distribution of LYMPH_NODES_EXAMINED_POSITIVE according to VITAL_STATUS:\n",
      "\n"
     ]
    },
    {
     "data": {
      "image/png": "[encoded data removed]",
      "text/plain": [
       "<Figure size 600x500 with 2 Axes>"
      ]
     },
     "metadata": {},
     "output_type": "display_data"
    }
   ],
   "source": [
    "#LYMPH_NODES_EXAMINED_POSITIVE based on binary classification of VITAL_STATUS\n",
    "lymph_vitality_df = breast_cancer_df[\n",
    "    ['LYMPH_NODES_EXAMINED_POSITIVE','VITAL_STATUS']].copy()\n",
    "indep_by_dep_boxplot(lymph_vitality_df,'LYMPH_NODES_EXAMINED_POSITIVE','VITAL_STATUS')"
   ]
  },
  {
   "cell_type": "markdown",
   "metadata": {},
   "source": [
    "NPI: We create two boxplots comparing the distribution of NPI between patients that are alive versus patients that have died of cancer. This variable refers to Nottingham Prognostic index, which is a prognostics measure that predicts operable primary breast cancer survival. Based on these, it appears that the average NPI score between living and passed patients do not differ significantly, although the range in NPI scores for patients that have passed is more consistently on the higher end."
   ]
  },
  {
   "cell_type": "code",
   "execution_count": 47,
   "metadata": {},
   "outputs": [
    {
     "name": "stdout",
     "output_type": "stream",
     "text": [
      "\n",
      " Distribution of NPI according to VITAL_STATUS:\n",
      "\n"
     ]
    },
    {
     "data": {
      "image/png": "[encoded data removed]",
      "text/plain": [
       "<Figure size 600x500 with 2 Axes>"
      ]
     },
     "metadata": {},
     "output_type": "display_data"
    }
   ],
   "source": [
    "#NPI based on binary classification of VITAL_STATUS\n",
    "npi_df= breast_cancer_df[['NPI','VITAL_STATUS']].copy()\n",
    "indep_by_dep_boxplot(npi_df,'NPI','VITAL_STATUS')"
   ]
  },
  {
   "cell_type": "markdown",
   "metadata": {},
   "source": [
    "AGE_AT_DIAGNOSIS: We create two boxplots comparing the distribution of age of diagnosis between patients that are alive and patients that have died of cancer. It seems the average age of diagnosis for patients who have passed is slightly higher, but it's difficult to say if this is significant. The range of ages for patients who have passed, however, seems to be much more spread apart."
   ]
  },
  {
   "cell_type": "code",
   "execution_count": 48,
   "metadata": {},
   "outputs": [
    {
     "name": "stdout",
     "output_type": "stream",
     "text": [
      "\n",
      " Distribution of AGE_AT_DIAGNOSIS according to VITAL_STATUS:\n",
      "\n"
     ]
    },
    {
     "data": {
      "image/png": "[encoded data removed]",
      "text/plain": [
       "<Figure size 600x500 with 2 Axes>"
      ]
     },
     "metadata": {},
     "output_type": "display_data"
    }
   ],
   "source": [
    "#AGE_AT_DIAGNOSIS based on binary classification of VITAL_STATUS\n",
    "age_df= breast_cancer_df[['AGE_AT_DIAGNOSIS','VITAL_STATUS']].copy()\n",
    "indep_by_dep_boxplot(age_df,'AGE_AT_DIAGNOSIS','VITAL_STATUS')"
   ]
  },
  {
   "cell_type": "markdown",
   "metadata": {},
   "source": [
    "OS_MONTHS: We create two boxplots comparing the distribution of OS Months between patients that are alive and patients that have died of cancer. This variable refers to overall survival in months since initial diagnosis. As such, this value for patients who have passed are much lower. This is not very insightful, however, given the obvious correlation between current state of vitality and number of survival months."
   ]
  },
  {
   "cell_type": "code",
   "execution_count": 49,
   "metadata": {},
   "outputs": [
    {
     "name": "stdout",
     "output_type": "stream",
     "text": [
      "\n",
      " Distribution of OS_MONTHS according to VITAL_STATUS:\n",
      "\n"
     ]
    },
    {
     "data": {
      "image/png": "[encoded data removed]",
      "text/plain": [
       "<Figure size 600x500 with 2 Axes>"
      ]
     },
     "metadata": {},
     "output_type": "display_data"
    }
   ],
   "source": [
    "#OS_MONTHS based on binary classification of VITAL_STATUS\n",
    "os_months_df= breast_cancer_df[['OS_MONTHS','VITAL_STATUS']].copy()\n",
    "indep_by_dep_boxplot(os_months_df,'OS_MONTHS','VITAL_STATUS')"
   ]
  },
  {
   "cell_type": "markdown",
   "metadata": {},
   "source": [
    "RFS_STATUS: We create two boxplots comparing the distribution of RFS Status between patients that are alive and patients that have died of cancer. This variable refers to relapse free status in months. Patients that have passed have a much shorter time of being relapse free."
   ]
  },
  {
   "cell_type": "code",
   "execution_count": 50,
   "metadata": {},
   "outputs": [
    {
     "name": "stdout",
     "output_type": "stream",
     "text": [
      "\n",
      " Distribution of RFS_MONTHS according to VITAL_STATUS:\n",
      "\n"
     ]
    },
    {
     "data": {
      "image/png": "[encoded data removed]",
      "text/plain": [
       "<Figure size 600x500 with 2 Axes>"
      ]
     },
     "metadata": {},
     "output_type": "display_data"
    }
   ],
   "source": [
    "#RFS_MONTHS based on binary classification of VITAL_STATUS\n",
    "rfs_months_df= breast_cancer_df[['RFS_MONTHS','VITAL_STATUS']].copy()\n",
    "indep_by_dep_boxplot(rfs_months_df,'RFS_MONTHS','VITAL_STATUS')"
   ]
  }
 ],
 "metadata": {
  "colab": {
   "provenance": []
  },
  "kernelspec": {
   "display_name": "Python 3 (ipykernel)",
   "language": "python",
   "name": "python3"
  },
  "language_info": {
   "codemirror_mode": {
    "name": "ipython",
    "version": 3
   },
   "file_extension": ".py",
   "mimetype": "text/x-python",
   "name": "python",
   "nbconvert_exporter": "python",
   "pygments_lexer": "ipython3",
   "version": "3.11.4"
  }
 },
 "nbformat": 4,
 "nbformat_minor": 1
}
